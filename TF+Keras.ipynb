{
 "cells": [
  {
   "cell_type": "markdown",
   "metadata": {},
   "source": [
    "Last Modifed:July 23, 2019\n",
    "\n",
    "Description: This notebook builds a simple neural network and trains it. The data used is from a Kaggle dataset (Intel Image Classification).\n",
    "\n",
    "This one uses tensorflow and keras layers."
   ]
  },
  {
   "cell_type": "code",
   "execution_count": 1,
   "metadata": {},
   "outputs": [
    {
     "name": "stdout",
     "output_type": "stream",
     "text": [
      "python:  3.6.8\n",
      "tensorflow:  1.13.1\n"
     ]
    }
   ],
   "source": [
    "%matplotlib inline\n",
    "import numpy as np\n",
    "import matplotlib.pyplot as plt\n",
    "import platform\n",
    "import tensorflow as tf\n",
    "from tensorflow import keras\n",
    "from tensorflow.keras.models import Sequential, Model\n",
    "from tensorflow.keras.preprocessing.image import ImageDataGenerator\n",
    "from tensorflow.keras.preprocessing import image\n",
    "from tensorflow.keras.layers import *\n",
    "from tensorflow.keras.callbacks import ModelCheckpoint\n",
    "import os\n",
    "from sklearn.metrics import confusion_matrix, classification_report, accuracy_score\n",
    "from sklearn.preprocessing import normalize\n",
    "import time\n",
    "\n",
    "print('python: ', platform.python_version())\n",
    "print('tensorflow: ', tf.__version__)"
   ]
  },
  {
   "cell_type": "markdown",
   "metadata": {},
   "source": [
    "Declare paths to data."
   ]
  },
  {
   "cell_type": "code",
   "execution_count": 2,
   "metadata": {},
   "outputs": [],
   "source": [
    "training_path='seg_train'\n",
    "test_path='seg_test'"
   ]
  },
  {
   "cell_type": "code",
   "execution_count": 3,
   "metadata": {},
   "outputs": [],
   "source": [
    "class_dict={}\n",
    "for i in os.listdir(training_path):\n",
    "    class_dict[i] =  os.listdir(training_path+'/'+i)"
   ]
  },
  {
   "cell_type": "code",
   "execution_count": 4,
   "metadata": {},
   "outputs": [],
   "source": [
    "img_list=[]\n",
    "class_list=[]\n",
    "classes=[]\n",
    "dr=[]"
   ]
  },
  {
   "cell_type": "code",
   "execution_count": 5,
   "metadata": {},
   "outputs": [],
   "source": [
    "for ii in class_dict:\n",
    "    classes.append(ii)"
   ]
  },
  {
   "cell_type": "code",
   "execution_count": 6,
   "metadata": {},
   "outputs": [],
   "source": [
    "for ii,val in enumerate(class_dict.values()):\n",
    "    for img in val :\n",
    "        img_list.append(img)\n",
    "        class_list.append(classes[ii])"
   ]
  },
  {
   "cell_type": "code",
   "execution_count": 7,
   "metadata": {},
   "outputs": [],
   "source": [
    "for ii in range(len(class_list)):\n",
    "    dr.append(training_path+'/'+class_list[ii]+'/'+img_list[ii])"
   ]
  },
  {
   "cell_type": "markdown",
   "metadata": {},
   "source": [
    "The transformations of flipping horizontally and vertically as well as rotations up to 25 degrees are set for the training set. Both the test and training sets are normalized to [0,1] for the pixel values."
   ]
  },
  {
   "cell_type": "code",
   "execution_count": 8,
   "metadata": {},
   "outputs": [],
   "source": [
    "train_data_generator=ImageDataGenerator(rescale=1.0/255,rotation_range=25,horizontal_flip=True,vertical_flip=True)\n",
    "\n",
    "test_data_generator=ImageDataGenerator(rescale=1.0/255)"
   ]
  },
  {
   "cell_type": "markdown",
   "metadata": {},
   "source": [
    "The batch size is declared and the images resized to 150x150.\n",
    "\n",
    "Then the number of images for training and testing are reported."
   ]
  },
  {
   "cell_type": "code",
   "execution_count": 9,
   "metadata": {},
   "outputs": [
    {
     "name": "stdout",
     "output_type": "stream",
     "text": [
      "Found 14034 images belonging to 6 classes.\n",
      "Found 3000 images belonging to 6 classes.\n"
     ]
    }
   ],
   "source": [
    "batch_size=64 \n",
    "\n",
    "train_generator=train_data_generator.flow_from_directory(training_path,target_size = (150,150),\n",
    "                                                         batch_size=batch_size,class_mode='sparse',shuffle=True)\n",
    "\n",
    "test_generator=test_data_generator.flow_from_directory(test_path,target_size=(150,150),\n",
    "                                                       batch_size=batch_size,class_mode='sparse',shuffle=False)"
   ]
  },
  {
   "cell_type": "markdown",
   "metadata": {},
   "source": [
    "The model is built using keras layers which handles most of the complexity."
   ]
  },
  {
   "cell_type": "markdown",
   "metadata": {},
   "source": [
    "model=keras.Sequential()\n",
    "\n",
    "model.add(Conv2D(32, kernel_size=(3,3), strides=2, activation='relu', input_shape=(150,150,3)))\n",
    "model.add(MaxPooling2D(pool_size=(2,2)))\n",
    "\n",
    "model.add(Conv2D(64, kernel_size=(3,3), strides=2, activation='relu'))\n",
    "model.add(MaxPooling2D(pool_size=(2,2)))\n",
    "\n",
    "model.add(Flatten())\n",
    "model.add(Dense(128,activation='relu'))\n",
    "model.add(Dense(64,activation='relu'))\n",
    "model.add(Dropout(rate=0.5))\n",
    "model.add(Dense(len(classes), activation='softmax'))\n",
    "\n",
    "model.summary()"
   ]
  },
  {
   "cell_type": "markdown",
   "metadata": {},
   "source": [
    "The model is then compiled with a loss function, optimizer, and metric."
   ]
  },
  {
   "cell_type": "code",
   "execution_count": 11,
   "metadata": {},
   "outputs": [
    {
     "name": "stdout",
     "output_type": "stream",
     "text": [
      "14034\n"
     ]
    }
   ],
   "source": [
    "training_count=len(img_list)\n",
    "print(training_count)\n",
    "\n",
    "model.compile(optimizer='adam', loss='sparse_categorical_crossentropy',metrics=['accuracy'])"
   ]
  },
  {
   "cell_type": "markdown",
   "metadata": {},
   "source": [
    "The model is trained for 15 epochs."
   ]
  },
  {
   "cell_type": "code",
   "execution_count": 12,
   "metadata": {},
   "outputs": [
    {
     "name": "stdout",
     "output_type": "stream",
     "text": [
      "Epoch 1/15\n",
      "47/47 [==============================] - 3s 65ms/step - loss: 1.2707 - acc: 0.5210\n",
      "220/220 [==============================] - 64s 289ms/step - loss: 1.3002 - acc: 0.4601 - val_loss: 1.2707 - val_acc: 0.5210\n",
      "Epoch 2/15\n",
      "47/47 [==============================] - 3s 66ms/step - loss: 1.0005 - acc: 0.6297\n",
      "220/220 [==============================] - 65s 296ms/step - loss: 1.0530 - acc: 0.5912 - val_loss: 1.0005 - val_acc: 0.6297\n",
      "Epoch 3/15\n",
      "47/47 [==============================] - 3s 66ms/step - loss: 0.8089 - acc: 0.6923: 0s - loss: 0.8154 - acc: 0.68\n",
      "220/220 [==============================] - 62s 284ms/step - loss: 0.9426 - acc: 0.6479 - val_loss: 0.8089 - val_acc: 0.6923\n",
      "Epoch 4/15\n",
      "47/47 [==============================] - 3s 65ms/step - loss: 0.7754 - acc: 0.7117\n",
      "220/220 [==============================] - 62s 284ms/step - loss: 0.8867 - acc: 0.6751 - val_loss: 0.7754 - val_acc: 0.7117\n",
      "Epoch 5/15\n",
      "47/47 [==============================] - 3s 64ms/step - loss: 0.7322 - acc: 0.7353\n",
      "220/220 [==============================] - 65s 293ms/step - loss: 0.8170 - acc: 0.6993 - val_loss: 0.7322 - val_acc: 0.7353\n",
      "Epoch 6/15\n",
      "47/47 [==============================] - 3s 67ms/step - loss: 0.7311 - acc: 0.7377\n",
      "220/220 [==============================] - 63s 284ms/step - loss: 0.7866 - acc: 0.7158 - val_loss: 0.7311 - val_acc: 0.7377\n",
      "Epoch 7/15\n",
      "47/47 [==============================] - 3s 67ms/step - loss: 0.6796 - acc: 0.7510\n",
      "220/220 [==============================] - 63s 284ms/step - loss: 0.7583 - acc: 0.7328 - val_loss: 0.6796 - val_acc: 0.7510\n",
      "Epoch 8/15\n",
      "47/47 [==============================] - 3s 67ms/step - loss: 0.6325 - acc: 0.7673\n",
      "220/220 [==============================] - 64s 290ms/step - loss: 0.7213 - acc: 0.7478 - val_loss: 0.6325 - val_acc: 0.7673\n",
      "Epoch 9/15\n",
      "47/47 [==============================] - 3s 67ms/step - loss: 0.6756 - acc: 0.7497\n",
      "220/220 [==============================] - 63s 284ms/step - loss: 0.7024 - acc: 0.7525 - val_loss: 0.6756 - val_acc: 0.7497\n",
      "Epoch 10/15\n",
      "47/47 [==============================] - 3s 66ms/step - loss: 0.6878 - acc: 0.7530\n",
      "220/220 [==============================] - 64s 290ms/step - loss: 0.6718 - acc: 0.7651 - val_loss: 0.6878 - val_acc: 0.7530\n",
      "Epoch 11/15\n",
      "47/47 [==============================] - 3s 67ms/step - loss: 0.6152 - acc: 0.7833\n",
      "220/220 [==============================] - 62s 283ms/step - loss: 0.6697 - acc: 0.7639 - val_loss: 0.6152 - val_acc: 0.7833\n",
      "Epoch 12/15\n",
      "47/47 [==============================] - 3s 68ms/step - loss: 0.5986 - acc: 0.7830\n",
      "220/220 [==============================] - 63s 285ms/step - loss: 0.6347 - acc: 0.7780 - val_loss: 0.5986 - val_acc: 0.7830\n",
      "Epoch 13/15\n",
      "47/47 [==============================] - 3s 68ms/step - loss: 0.5865 - acc: 0.7873\n",
      "220/220 [==============================] - 63s 285ms/step - loss: 0.6151 - acc: 0.7847 - val_loss: 0.5865 - val_acc: 0.7873\n",
      "Epoch 14/15\n",
      "47/47 [==============================] - 3s 66ms/step - loss: 0.5732 - acc: 0.7927\n",
      "220/220 [==============================] - 64s 290ms/step - loss: 0.6162 - acc: 0.7832 - val_loss: 0.5732 - val_acc: 0.7927\n",
      "Epoch 15/15\n",
      "47/47 [==============================] - 3s 67ms/step - loss: 0.5698 - acc: 0.7957\n",
      "220/220 [==============================] - 63s 285ms/step - loss: 0.5960 - acc: 0.7970 - val_loss: 0.5698 - val_acc: 0.7957\n"
     ]
    }
   ],
   "source": [
    "t = time.time()\n",
    "\n",
    "history=model.fit_generator(train_generator,epochs=15,steps_per_epoch=training_count//batch_size,\n",
    "                            shuffle=True,verbose=1,validation_data=test_generator)\n",
    "\n",
    "elapsed = time.time() - t\n"
   ]
  },
  {
   "cell_type": "code",
   "execution_count": 13,
   "metadata": {},
   "outputs": [
    {
     "name": "stdout",
     "output_type": "stream",
     "text": [
      "Training Time: 949.0090763568878\n"
     ]
    }
   ],
   "source": [
    "print('Training Time:', elapsed)"
   ]
  },
  {
   "cell_type": "markdown",
   "metadata": {},
   "source": [
    "I plot the accuracy and loss."
   ]
  },
  {
   "cell_type": "code",
   "execution_count": 14,
   "metadata": {},
   "outputs": [
    {
     "data": {
      "text/plain": [
       "[Text(0, 0.5, 'Loss'), Text(0.5, 0, 'Epochs')]"
      ]
     },
     "execution_count": 14,
     "metadata": {},
     "output_type": "execute_result"
    },
    {
     "data": {
      "image/png": "[encoded data removed]",
      "text/plain": [
       "<Figure size 720x360 with 2 Axes>"
      ]
     },
     "metadata": {
      "needs_background": "light"
     },
     "output_type": "display_data"
    }
   ],
   "source": [
    "# Loss Curves\n",
    "f,(ax1,ax2)=plt.subplots(1,2,figsize=(10,5))\n",
    "ax1.plot(history.history['acc'],'r',label='Training Accuracy')\n",
    "ax1.plot(history.history['val_acc'],'b',label='Validation Accuracy')\n",
    "ax1.legend()\n",
    "ax1.set(xlabel='Epochs',ylabel='Accuracy')\n",
    "\n",
    "ax2.plot(history.history['loss'],'r',label='Training Loss')\n",
    "ax2.plot(history.history['val_loss'],'b',label='Validation Loss')\n",
    "ax2.legend()\n",
    "ax2.set(xlabel='Epochs',ylabel='Loss')"
   ]
  },
  {
   "cell_type": "markdown",
   "metadata": {},
   "source": [
    "The trained model then predicts labels."
   ]
  },
  {
   "cell_type": "code",
   "execution_count": 15,
   "metadata": {},
   "outputs": [],
   "source": [
    "pred=model.predict_classes(test_generator)\n",
    "test_labels=test_generator.classes"
   ]
  },
  {
   "cell_type": "markdown",
   "metadata": {},
   "source": [
    "A confusion matrix is a useful visualization tool to see correct and incorrect classifications."
   ]
  },
  {
   "cell_type": "code",
   "execution_count": 16,
   "metadata": {},
   "outputs": [],
   "source": [
    "conf=confusion_matrix(test_labels,pred)"
   ]
  },
  {
   "cell_type": "code",
   "execution_count": 17,
   "metadata": {},
   "outputs": [
    {
     "data": {
      "image/png": "[encoded data removed]",
      "text/plain": [
       "<Figure size 504x504 with 1 Axes>"
      ]
     },
     "metadata": {
      "needs_background": "light"
     },
     "output_type": "display_data"
    }
   ],
   "source": [
    "fig, ax = plt.subplots(figsize=(7,7))\n",
    "# Using matshow here just because it sets the ticks up nicely. imshow is faster.\n",
    "ax.matshow(conf, cmap='coolwarm')\n",
    "ax.set_xticklabels(['']+classes)\n",
    "ax.set_yticklabels(['']+classes)\n",
    "plt.title('Confusion Matrix TF+Keras')\n",
    "plt.xlabel('Predicted')\n",
    "plt.ylabel('True')\n",
    "\n",
    "for (ii, jj), val in np.ndenumerate(conf):\n",
    "    ax.text(jj, ii, '{:0.1f}'.format(val), ha='center', va='center')\n",
    "\n",
    "plt.show()"
   ]
  },
  {
   "cell_type": "markdown",
   "metadata": {},
   "source": [
    "A classification report is made to report extra metrics for optional further comparison."
   ]
  },
  {
   "cell_type": "code",
   "execution_count": 18,
   "metadata": {},
   "outputs": [
    {
     "name": "stdout",
     "output_type": "stream",
     "text": [
      "              precision    recall  f1-score   support\n",
      "\n",
      "           0       0.67      0.77      0.71       437\n",
      "           1       0.95      0.95      0.95       474\n",
      "           2       0.74      0.83      0.78       553\n",
      "           3       0.83      0.70      0.75       525\n",
      "           4       0.84      0.71      0.77       510\n",
      "           5       0.78      0.82      0.80       501\n",
      "\n",
      "    accuracy                           0.80      3000\n",
      "   macro avg       0.80      0.80      0.80      3000\n",
      "weighted avg       0.80      0.80      0.80      3000\n",
      "\n"
     ]
    }
   ],
   "source": [
    "CR=classification_report(test_labels,pred)\n",
    "\n",
    "print(CR)"
   ]
  },
  {
   "cell_type": "markdown",
   "metadata": {},
   "source": [
    "Lastly, the accuracy is reported and the final accuracy and training time are saved for comparison."
   ]
  },
  {
   "cell_type": "code",
   "execution_count": 19,
   "metadata": {},
   "outputs": [
    {
     "name": "stdout",
     "output_type": "stream",
     "text": [
      "Training Time:  949.0090763568878\n",
      "Final Accuracy:  0.7956666666666666\n"
     ]
    }
   ],
   "source": [
    "acc=accuracy_score(test_labels,pred)\n",
    "\n",
    "print('Training Time: ', elapsed)\n",
    "print('Final Accuracy: ', acc)\n",
    "np.save('TF+Keras',(elapsed,acc))"
   ]
  }
 ],
 "metadata": {
  "kernelspec": {
   "display_name": "Python 3",
   "language": "python",
   "name": "python3"
  },
  "language_info": {
   "codemirror_mode": {
    "name": "ipython",
    "version": 3
   },
   "file_extension": ".py",
   "mimetype": "text/x-python",
   "name": "python",
   "nbconvert_exporter": "python",
   "pygments_lexer": "ipython3",
   "version": "3.6.8"
  }
 },
 "nbformat": 4,
 "nbformat_minor": 2
}

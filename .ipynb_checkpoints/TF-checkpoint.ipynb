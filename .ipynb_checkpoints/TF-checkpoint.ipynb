{
 "cells": [
  {
   "cell_type": "code",
   "execution_count": 1,
   "metadata": {},
   "outputs": [
    {
     "name": "stdout",
     "output_type": "stream",
     "text": [
      "python:  3.6.8\n",
      "tensorflow:  1.13.1\n"
     ]
    }
   ],
   "source": [
    "%matplotlib inline\n",
    "import numpy as np\n",
    "import matplotlib.pyplot as plt\n",
    "import platform\n",
    "import tensorflow as tf\n",
    "from tensorflow import keras\n",
    "from tensorflow.keras.models import Sequential, Model\n",
    "from tensorflow.keras.preprocessing.image import ImageDataGenerator\n",
    "from tensorflow.keras.preprocessing import image\n",
    "from tensorflow.keras.layers import *\n",
    "from tensorflow.keras.callbacks import ModelCheckpoint\n",
    "import os\n",
    "from sklearn.metrics import confusion_matrix, classification_report, accuracy_score\n",
    "from sklearn.preprocessing import normalize\n",
    "import time\n",
    "\n",
    "print('python: ', platform.python_version())\n",
    "print('tensorflow: ', tf.__version__)"
   ]
  },
  {
   "cell_type": "code",
   "execution_count": 2,
   "metadata": {},
   "outputs": [],
   "source": [
    "training_path='seg_train'\n",
    "test_path='seg_test'"
   ]
  },
  {
   "cell_type": "code",
   "execution_count": 3,
   "metadata": {},
   "outputs": [],
   "source": [
    "class_dict={}\n",
    "for i in os.listdir(training_path):\n",
    "    class_dict[i] =  os.listdir(training_path+'/'+i)"
   ]
  },
  {
   "cell_type": "code",
   "execution_count": 4,
   "metadata": {},
   "outputs": [],
   "source": [
    "img_list=[]\n",
    "class_list=[]\n",
    "classes=[]\n",
    "dr=[]"
   ]
  },
  {
   "cell_type": "code",
   "execution_count": 5,
   "metadata": {},
   "outputs": [],
   "source": [
    "for ii in class_dict:\n",
    "    classes.append(ii)"
   ]
  },
  {
   "cell_type": "code",
   "execution_count": 6,
   "metadata": {},
   "outputs": [],
   "source": [
    "for ii,val in enumerate(class_dict.values()):\n",
    "    for img in val :\n",
    "        img_list.append(img)\n",
    "        class_list.append(classes[ii])"
   ]
  },
  {
   "cell_type": "code",
   "execution_count": 7,
   "metadata": {},
   "outputs": [],
   "source": [
    "for ii in range(len(class_list)):\n",
    "    dr.append(training_path+'/'+class_list[ii]+'/'+img_list[ii])"
   ]
  },
  {
   "cell_type": "code",
   "execution_count": 8,
   "metadata": {},
   "outputs": [],
   "source": [
    "train_data_generator=ImageDataGenerator(rescale=1.0/255,rotation_range=25,horizontal_flip=True,vertical_flip=True)\n",
    "\n",
    "test_data_generator=ImageDataGenerator(rescale=1.0/255)"
   ]
  },
  {
   "cell_type": "code",
   "execution_count": 9,
   "metadata": {},
   "outputs": [
    {
     "name": "stdout",
     "output_type": "stream",
     "text": [
      "Found 14034 images belonging to 6 classes.\n",
      "Found 3000 images belonging to 6 classes.\n"
     ]
    }
   ],
   "source": [
    "batch_size=64 \n",
    "\n",
    "train_generator=train_data_generator.flow_from_directory(training_path,target_size = (150,150),\n",
    "                                                         batch_size=batch_size,class_mode='sparse',shuffle=True)\n",
    "\n",
    "test_generator=test_data_generator.flow_from_directory(test_path,target_size=(150,150),\n",
    "                                                       batch_size=batch_size,class_mode='sparse',shuffle=False)"
   ]
  },
  {
   "cell_type": "code",
   "execution_count": 10,
   "metadata": {},
   "outputs": [
    {
     "name": "stdout",
     "output_type": "stream",
     "text": [
      "WARNING:tensorflow:From /home/kloew/anaconda3/envs/IntelImages/lib/python3.6/site-packages/tensorflow/python/ops/resource_variable_ops.py:435: colocate_with (from tensorflow.python.framework.ops) is deprecated and will be removed in a future version.\n",
      "Instructions for updating:\n",
      "Colocations handled automatically by placer.\n",
      "WARNING:tensorflow:From /home/kloew/anaconda3/envs/IntelImages/lib/python3.6/site-packages/tensorflow/python/keras/layers/core.py:143: calling dropout (from tensorflow.python.ops.nn_ops) with keep_prob is deprecated and will be removed in a future version.\n",
      "Instructions for updating:\n",
      "Please use `rate` instead of `keep_prob`. Rate should be set to `rate = 1 - keep_prob`.\n",
      "_________________________________________________________________\n",
      "Layer (type)                 Output Shape              Param #   \n",
      "=================================================================\n",
      "conv2d (Conv2D)              (None, 74, 74, 32)        896       \n",
      "_________________________________________________________________\n",
      "max_pooling2d (MaxPooling2D) (None, 37, 37, 32)        0         \n",
      "_________________________________________________________________\n",
      "conv2d_1 (Conv2D)            (None, 18, 18, 64)        18496     \n",
      "_________________________________________________________________\n",
      "max_pooling2d_1 (MaxPooling2 (None, 9, 9, 64)          0         \n",
      "_________________________________________________________________\n",
      "flatten (Flatten)            (None, 5184)              0         \n",
      "_________________________________________________________________\n",
      "dense (Dense)                (None, 128)               663680    \n",
      "_________________________________________________________________\n",
      "dense_1 (Dense)              (None, 64)                8256      \n",
      "_________________________________________________________________\n",
      "dropout (Dropout)            (None, 64)                0         \n",
      "_________________________________________________________________\n",
      "dense_2 (Dense)              (None, 10)                650       \n",
      "=================================================================\n",
      "Total params: 691,978\n",
      "Trainable params: 691,978\n",
      "Non-trainable params: 0\n",
      "_________________________________________________________________\n"
     ]
    }
   ],
   "source": [
    "model=keras.Sequential()\n",
    "\n",
    "model.add(Conv2D(32, kernel_size=(3,3), strides=2, activation='relu', input_shape=(150,150,3)))\n",
    "model.add(MaxPooling2D(pool_size=(2,2)))\n",
    "\n",
    "model.add(Conv2D(64, kernel_size=(3,3), strides=2, activation='relu'))\n",
    "model.add(MaxPooling2D(pool_size=(2,2)))\n",
    "\n",
    "model.add(Flatten())\n",
    "model.add(Dense(128,activation='relu'))\n",
    "model.add(Dense(64,activation='relu'))\n",
    "model.add(Dropout(rate=0.5))\n",
    "model.add(Dense(10, activation='softmax'))\n",
    "\n",
    "model.summary()"
   ]
  },
  {
   "cell_type": "code",
   "execution_count": 11,
   "metadata": {},
   "outputs": [
    {
     "name": "stdout",
     "output_type": "stream",
     "text": [
      "14034\n"
     ]
    }
   ],
   "source": [
    "training_count=len(img_list)\n",
    "print(training_count)\n",
    "\n",
    "model.compile(optimizer='adam', loss='sparse_categorical_crossentropy',metrics=['accuracy'])"
   ]
  },
  {
   "cell_type": "code",
   "execution_count": 12,
   "metadata": {},
   "outputs": [
    {
     "name": "stdout",
     "output_type": "stream",
     "text": [
      "Epoch 1/15\n",
      "47/47 [==============================] - 4s 81ms/step - loss: 1.0142 - acc: 0.6260\n",
      "220/220 [==============================] - 108s 491ms/step - loss: 1.4088 - acc: 0.4264 - val_loss: 1.0142 - val_acc: 0.6260\n",
      "Epoch 2/15\n",
      "47/47 [==============================] - 3s 65ms/step - loss: 0.8637 - acc: 0.6823\n",
      "220/220 [==============================] - 62s 280ms/step - loss: 1.0578 - acc: 0.5981 - val_loss: 0.8637 - val_acc: 0.6823\n",
      "Epoch 3/15\n",
      "47/47 [==============================] - 3s 65ms/step - loss: 0.8268 - acc: 0.6973\n",
      "220/220 [==============================] - 64s 291ms/step - loss: 0.9515 - acc: 0.6469 - val_loss: 0.8268 - val_acc: 0.6973\n",
      "Epoch 4/15\n",
      "47/47 [==============================] - 3s 65ms/step - loss: 0.8095 - acc: 0.7083\n",
      "220/220 [==============================] - 62s 282ms/step - loss: 0.8761 - acc: 0.6860 - val_loss: 0.8095 - val_acc: 0.7083\n",
      "Epoch 5/15\n",
      "47/47 [==============================] - 3s 67ms/step - loss: 0.7070 - acc: 0.7410\n",
      "220/220 [==============================] - 63s 287ms/step - loss: 0.8412 - acc: 0.6972 - val_loss: 0.7070 - val_acc: 0.7410\n",
      "Epoch 6/15\n",
      "47/47 [==============================] - 3s 64ms/step - loss: 0.7109 - acc: 0.7487\n",
      "220/220 [==============================] - 65s 294ms/step - loss: 0.7981 - acc: 0.7159 - val_loss: 0.7109 - val_acc: 0.7487\n",
      "Epoch 7/15\n",
      "47/47 [==============================] - 3s 65ms/step - loss: 0.7229 - acc: 0.7480\n",
      "220/220 [==============================] - 62s 281ms/step - loss: 0.7617 - acc: 0.7287 - val_loss: 0.7229 - val_acc: 0.7480\n",
      "Epoch 8/15\n",
      "47/47 [==============================] - 3s 63ms/step - loss: 0.6782 - acc: 0.7560\n",
      "220/220 [==============================] - 64s 293ms/step - loss: 0.7273 - acc: 0.7444 - val_loss: 0.6782 - val_acc: 0.7560\n",
      "Epoch 9/15\n",
      "47/47 [==============================] - 3s 67ms/step - loss: 0.8005 - acc: 0.7113\n",
      "220/220 [==============================] - 62s 282ms/step - loss: 0.7061 - acc: 0.7547 - val_loss: 0.8005 - val_acc: 0.7113\n",
      "Epoch 10/15\n",
      "47/47 [==============================] - 3s 65ms/step - loss: 0.6821 - acc: 0.7610\n",
      "220/220 [==============================] - 64s 290ms/step - loss: 0.6826 - acc: 0.7595 - val_loss: 0.6821 - val_acc: 0.7610\n",
      "Epoch 11/15\n",
      "47/47 [==============================] - 3s 65ms/step - loss: 0.7140 - acc: 0.7507\n",
      "220/220 [==============================] - 62s 280ms/step - loss: 0.6623 - acc: 0.7721 - val_loss: 0.7140 - val_acc: 0.7507\n",
      "Epoch 12/15\n",
      "47/47 [==============================] - 3s 63ms/step - loss: 0.6292 - acc: 0.7780\n",
      "220/220 [==============================] - 64s 292ms/step - loss: 0.6321 - acc: 0.7775 - val_loss: 0.6292 - val_acc: 0.7780\n",
      "Epoch 13/15\n",
      "47/47 [==============================] - 3s 65ms/step - loss: 0.6569 - acc: 0.7597\n",
      "220/220 [==============================] - 62s 281ms/step - loss: 0.6228 - acc: 0.7781 - val_loss: 0.6569 - val_acc: 0.7597\n",
      "Epoch 14/15\n",
      "47/47 [==============================] - 3s 66ms/step - loss: 0.6326 - acc: 0.7700\n",
      "220/220 [==============================] - 64s 293ms/step - loss: 0.6037 - acc: 0.7882 - val_loss: 0.6326 - val_acc: 0.7700\n",
      "Epoch 15/15\n",
      "47/47 [==============================] - 3s 64ms/step - loss: 0.5827 - acc: 0.7887\n",
      "220/220 [==============================] - 62s 280ms/step - loss: 0.5888 - acc: 0.7976 - val_loss: 0.5827 - val_acc: 0.7887\n"
     ]
    }
   ],
   "source": [
    "t = time.time()\n",
    "\n",
    "history=model.fit_generator(train_generator,epochs=15,steps_per_epoch=training_count//batch_size,\n",
    "                            shuffle=True,verbose=1,validation_data=test_generator)\n",
    "\n",
    "elapsed = time.time() - t\n"
   ]
  },
  {
   "cell_type": "code",
   "execution_count": 13,
   "metadata": {},
   "outputs": [
    {
     "name": "stdout",
     "output_type": "stream",
     "text": [
      "Training Time: 989.6742949485779\n"
     ]
    }
   ],
   "source": [
    "print('Training Time:', elapsed)"
   ]
  },
  {
   "cell_type": "code",
   "execution_count": 14,
   "metadata": {},
   "outputs": [
    {
     "data": {
      "text/plain": [
       "[Text(0, 0.5, 'Loss'), Text(0.5, 0, 'Epochs')]"
      ]
     },
     "execution_count": 14,
     "metadata": {},
     "output_type": "execute_result"
    },
    {
     "data": {
      "image/png": "[encoded data removed]",
      "text/plain": [
       "<Figure size 720x360 with 2 Axes>"
      ]
     },
     "metadata": {
      "needs_background": "light"
     },
     "output_type": "display_data"
    }
   ],
   "source": [
    "# Loss Curves\n",
    "f,(ax1,ax2)=plt.subplots(1,2,figsize=(10,5))\n",
    "ax1.plot(history.history['acc'],'r',label='Training Accuracy')\n",
    "ax1.plot(history.history['val_acc'],'b',label='Validation Accuracy')\n",
    "ax1.legend()\n",
    "ax1.set(xlabel='Epochs',ylabel='Accuracy')\n",
    "\n",
    "ax2.plot(history.history['loss'],'r',label='Training Loss')\n",
    "ax2.plot(history.history['val_loss'],'b',label='Validation Loss')\n",
    "ax2.legend()\n",
    "ax2.set(xlabel='Epochs',ylabel='Loss')"
   ]
  },
  {
   "cell_type": "code",
   "execution_count": 15,
   "metadata": {},
   "outputs": [],
   "source": [
    "pred=model.predict_classes(test_generator)\n",
    "test_labels=test_generator.classes"
   ]
  },
  {
   "cell_type": "code",
   "execution_count": 16,
   "metadata": {},
   "outputs": [],
   "source": [
    "conf=confusion_matrix(test_labels,pred)\n",
    "#conf=normalize(conf)"
   ]
  },
  {
   "cell_type": "code",
   "execution_count": 17,
   "metadata": {},
   "outputs": [
    {
     "data": {
      "image/png": "[encoded data removed]",
      "text/plain": [
       "<Figure size 504x504 with 1 Axes>"
      ]
     },
     "metadata": {
      "needs_background": "light"
     },
     "output_type": "display_data"
    }
   ],
   "source": [
    "fig, ax = plt.subplots(figsize=(7,7))\n",
    "# Using matshow here just because it sets the ticks up nicely. imshow is faster.\n",
    "ax.matshow(conf, cmap='coolwarm')\n",
    "ax.set_xticklabels(['']+classes)\n",
    "ax.set_yticklabels(['']+classes)\n",
    "plt.title('Confusion Matrix')\n",
    "plt.xlabel('Predicted')\n",
    "plt.ylabel('True')\n",
    "\n",
    "for (ii, jj), val in np.ndenumerate(conf):\n",
    "    ax.text(jj, ii, '{:0.1f}'.format(val), ha='center', va='center')\n",
    "\n",
    "plt.show()"
   ]
  },
  {
   "cell_type": "code",
   "execution_count": 18,
   "metadata": {},
   "outputs": [
    {
     "name": "stdout",
     "output_type": "stream",
     "text": [
      "              precision    recall  f1-score   support\n",
      "\n",
      "           0       0.68      0.81      0.74       437\n",
      "           1       0.96      0.93      0.94       474\n",
      "           2       0.84      0.66      0.74       553\n",
      "           3       0.71      0.80      0.76       525\n",
      "           4       0.83      0.71      0.77       510\n",
      "           5       0.76      0.85      0.80       501\n",
      "\n",
      "    accuracy                           0.79      3000\n",
      "   macro avg       0.80      0.79      0.79      3000\n",
      "weighted avg       0.80      0.79      0.79      3000\n",
      "\n"
     ]
    }
   ],
   "source": [
    "CR=classification_report(test_labels,pred)\n",
    "\n",
    "print(CR)"
   ]
  },
  {
   "cell_type": "code",
   "execution_count": 19,
   "metadata": {},
   "outputs": [
    {
     "name": "stdout",
     "output_type": "stream",
     "text": [
      "Training Time:  989.6742949485779\n",
      "Final Accuracy:  0.7886666666666666\n"
     ]
    }
   ],
   "source": [
    "acc=accuracy_score(test_labels,pred)\n",
    "\n",
    "print('Training Time: ', elapsed)\n",
    "print('Final Accuracy: ', acc)\n",
    "np.save('TF+Keras',(elapsed,acc))"
   ]
  }
 ],
 "metadata": {
  "kernelspec": {
   "display_name": "Python 3",
   "language": "python",
   "name": "python3"
  },
  "language_info": {
   "codemirror_mode": {
    "name": "ipython",
    "version": 3
   },
   "file_extension": ".py",
   "mimetype": "text/x-python",
   "name": "python",
   "nbconvert_exporter": "python",
   "pygments_lexer": "ipython3",
   "version": "3.6.8"
  }
 },
 "nbformat": 4,
 "nbformat_minor": 2
}

{
 "cells": [
  {
   "cell_type": "code",
   "execution_count": 1,
   "metadata": {},
   "outputs": [
    {
     "name": "stdout",
     "output_type": "stream",
     "text": [
      "('python: ', '2.7.15')\n",
      "('tensorflow: ', '1.13.1')\n"
     ]
    }
   ],
   "source": [
    "%matplotlib inline\n",
    "import numpy as np\n",
    "import matplotlib.pyplot as plt\n",
    "import platform\n",
    "import tensorflow as tf\n",
    "from tensorflow import keras\n",
    "from tensorflow.keras.models import Sequential, Model\n",
    "from tensorflow.keras.preprocessing.image import ImageDataGenerator\n",
    "from tensorflow.keras.preprocessing import image\n",
    "from tensorflow.keras.layers import *\n",
    "from tensorflow.keras.callbacks import ModelCheckpoint\n",
    "from PIL import Image\n",
    "import os\n",
    "\n",
    "print('python: ', platform.python_version())\n",
    "print('tensorflow: ', tf.__version__)"
   ]
  },
  {
   "cell_type": "code",
   "execution_count": 2,
   "metadata": {},
   "outputs": [],
   "source": [
    "training_path='seg_train'\n",
    "test_path='seg_test'"
   ]
  },
  {
   "cell_type": "code",
   "execution_count": 3,
   "metadata": {},
   "outputs": [],
   "source": [
    "class_dict={}\n",
    "for i in os.listdir(training_path):\n",
    "    class_dict[i] =  os.listdir(training_path+'/'+i)"
   ]
  },
  {
   "cell_type": "code",
   "execution_count": 4,
   "metadata": {},
   "outputs": [],
   "source": [
    "img_list = []\n",
    "class_list = []\n",
    "classes = []\n",
    "dr = []"
   ]
  },
  {
   "cell_type": "code",
   "execution_count": 5,
   "metadata": {},
   "outputs": [],
   "source": [
    "for ii in class_dict:\n",
    "    classes.append(ii)"
   ]
  },
  {
   "cell_type": "code",
   "execution_count": 6,
   "metadata": {},
   "outputs": [],
   "source": [
    "for ii,val in enumerate(class_dict.values()):\n",
    "    for img in val :\n",
    "        img_list.append(img)\n",
    "        class_list.append(classes[ii])"
   ]
  },
  {
   "cell_type": "code",
   "execution_count": 7,
   "metadata": {},
   "outputs": [],
   "source": [
    "for ii in range(len(class_list)):\n",
    "    dr.append(training_path+'/'+class_list[ii]+'/'+img_list[ii])"
   ]
  },
  {
   "cell_type": "code",
   "execution_count": 8,
   "metadata": {},
   "outputs": [],
   "source": [
    "train_data_generator=ImageDataGenerator(rescale=1.0/255,rotation_range=45,horizontal_flip=True,vertical_flip=True)\n",
    "\n",
    "test_data_generator=ImageDataGenerator(rescale=1.0/255)"
   ]
  },
  {
   "cell_type": "code",
   "execution_count": 9,
   "metadata": {},
   "outputs": [
    {
     "name": "stdout",
     "output_type": "stream",
     "text": [
      "Found 14034 images belonging to 6 classes.\n",
      "Found 3000 images belonging to 6 classes.\n"
     ]
    }
   ],
   "source": [
    "batch_size=64 \n",
    "\n",
    "train_generator=train_data_generator.flow_from_directory(training_path,target_size = (150,150),\n",
    "                                                         batch_size=batch_size,class_mode='sparse')\n",
    "\n",
    "test_generator=test_data_generator.flow_from_directory(test_path,target_size=(150,150),\n",
    "                                                       batch_size=batch_size,class_mode='sparse')"
   ]
  },
  {
   "cell_type": "code",
   "execution_count": 10,
   "metadata": {},
   "outputs": [
    {
     "name": "stdout",
     "output_type": "stream",
     "text": [
      "WARNING:tensorflow:From /home/kloew/anaconda3/envs/IntelImages/lib/python2.7/site-packages/tensorflow/python/ops/resource_variable_ops.py:435: colocate_with (from tensorflow.python.framework.ops) is deprecated and will be removed in a future version.\n",
      "Instructions for updating:\n",
      "Colocations handled automatically by placer.\n",
      "_________________________________________________________________\n",
      "Layer (type)                 Output Shape              Param #   \n",
      "=================================================================\n",
      "conv2d (Conv2D)              (None, 150, 150, 32)      896       \n",
      "_________________________________________________________________\n",
      "conv2d_1 (Conv2D)            (None, 150, 150, 32)      9248      \n",
      "_________________________________________________________________\n",
      "batch_normalization_v1 (Batc (None, 150, 150, 32)      128       \n",
      "_________________________________________________________________\n",
      "conv2d_2 (Conv2D)            (None, 148, 148, 32)      9248      \n",
      "_________________________________________________________________\n",
      "batch_normalization_v1_1 (Ba (None, 148, 148, 32)      128       \n",
      "_________________________________________________________________\n",
      "max_pooling2d (MaxPooling2D) (None, 74, 74, 32)        0         \n",
      "_________________________________________________________________\n",
      "conv2d_3 (Conv2D)            (None, 74, 74, 64)        18496     \n",
      "_________________________________________________________________\n",
      "batch_normalization_v1_2 (Ba (None, 74, 74, 64)        256       \n",
      "_________________________________________________________________\n",
      "conv2d_4 (Conv2D)            (None, 74, 74, 64)        36928     \n",
      "_________________________________________________________________\n",
      "batch_normalization_v1_3 (Ba (None, 74, 74, 64)        256       \n",
      "_________________________________________________________________\n",
      "conv2d_5 (Conv2D)            (None, 74, 74, 64)        36928     \n",
      "_________________________________________________________________\n",
      "batch_normalization_v1_4 (Ba (None, 74, 74, 64)        256       \n",
      "_________________________________________________________________\n",
      "conv2d_6 (Conv2D)            (None, 74, 74, 64)        36928     \n",
      "_________________________________________________________________\n",
      "batch_normalization_v1_5 (Ba (None, 74, 74, 64)        256       \n",
      "_________________________________________________________________\n",
      "max_pooling2d_1 (MaxPooling2 (None, 37, 37, 64)        0         \n",
      "_________________________________________________________________\n",
      "conv2d_7 (Conv2D)            (None, 37, 37, 128)       73856     \n",
      "_________________________________________________________________\n",
      "batch_normalization_v1_6 (Ba (None, 37, 37, 128)       512       \n",
      "_________________________________________________________________\n",
      "conv2d_8 (Conv2D)            (None, 37, 37, 128)       147584    \n",
      "_________________________________________________________________\n",
      "batch_normalization_v1_7 (Ba (None, 37, 37, 128)       512       \n",
      "_________________________________________________________________\n",
      "conv2d_9 (Conv2D)            (None, 37, 37, 128)       147584    \n",
      "_________________________________________________________________\n",
      "batch_normalization_v1_8 (Ba (None, 37, 37, 128)       512       \n",
      "_________________________________________________________________\n",
      "conv2d_10 (Conv2D)           (None, 35, 35, 128)       147584    \n",
      "_________________________________________________________________\n",
      "batch_normalization_v1_9 (Ba (None, 35, 35, 128)       512       \n",
      "_________________________________________________________________\n",
      "max_pooling2d_2 (MaxPooling2 (None, 17, 17, 128)       0         \n",
      "_________________________________________________________________\n",
      "conv2d_11 (Conv2D)           (None, 17, 17, 256)       295168    \n",
      "_________________________________________________________________\n",
      "batch_normalization_v1_10 (B (None, 17, 17, 256)       1024      \n",
      "_________________________________________________________________\n",
      "conv2d_12 (Conv2D)           (None, 17, 17, 256)       590080    \n",
      "_________________________________________________________________\n",
      "batch_normalization_v1_11 (B (None, 17, 17, 256)       1024      \n",
      "_________________________________________________________________\n",
      "conv2d_13 (Conv2D)           (None, 17, 17, 256)       590080    \n",
      "_________________________________________________________________\n",
      "batch_normalization_v1_12 (B (None, 17, 17, 256)       1024      \n",
      "_________________________________________________________________\n",
      "conv2d_14 (Conv2D)           (None, 15, 15, 256)       590080    \n",
      "_________________________________________________________________\n",
      "batch_normalization_v1_13 (B (None, 15, 15, 256)       1024      \n",
      "_________________________________________________________________\n",
      "conv2d_15 (Conv2D)           (None, 13, 13, 256)       590080    \n",
      "_________________________________________________________________\n",
      "batch_normalization_v1_14 (B (None, 13, 13, 256)       1024      \n",
      "_________________________________________________________________\n",
      "max_pooling2d_3 (MaxPooling2 (None, 6, 6, 256)         0         \n",
      "_________________________________________________________________\n",
      "conv2d_16 (Conv2D)           (None, 6, 6, 512)         1180160   \n",
      "_________________________________________________________________\n",
      "batch_normalization_v1_15 (B (None, 6, 6, 512)         2048      \n",
      "_________________________________________________________________\n",
      "conv2d_17 (Conv2D)           (None, 6, 6, 512)         2359808   \n",
      "_________________________________________________________________\n",
      "batch_normalization_v1_16 (B (None, 6, 6, 512)         2048      \n",
      "_________________________________________________________________\n",
      "conv2d_18 (Conv2D)           (None, 6, 6, 512)         2359808   \n",
      "_________________________________________________________________\n",
      "batch_normalization_v1_17 (B (None, 6, 6, 512)         2048      \n",
      "_________________________________________________________________\n",
      "conv2d_19 (Conv2D)           (None, 4, 4, 512)         2359808   \n",
      "_________________________________________________________________\n",
      "batch_normalization_v1_18 (B (None, 4, 4, 512)         2048      \n",
      "_________________________________________________________________\n",
      "conv2d_20 (Conv2D)           (None, 2, 2, 512)         2359808   \n",
      "_________________________________________________________________\n",
      "batch_normalization_v1_19 (B (None, 2, 2, 512)         2048      \n",
      "_________________________________________________________________\n",
      "max_pooling2d_4 (MaxPooling2 (None, 1, 1, 512)         0         \n",
      "_________________________________________________________________\n",
      "global_average_pooling2d (Gl (None, 512)               0         \n",
      "_________________________________________________________________\n",
      "flatten (Flatten)            (None, 512)               0         \n",
      "_________________________________________________________________\n",
      "dense (Dense)                (None, 6)                 3078      \n",
      "=================================================================\n",
      "Total params: 13,961,926\n",
      "Trainable params: 13,952,582\n",
      "Non-trainable params: 9,344\n",
      "_________________________________________________________________\n"
     ]
    }
   ],
   "source": [
    "model=keras.Sequential()\n",
    "model.add(Conv2D(32, kernel_size=(3, 3),padding='same',activation='relu',input_shape=(150,150,3)))\n",
    "model.add(Conv2D(32, kernel_size=(3, 3),activation='relu',padding='same'))\n",
    "model.add(BatchNormalization(momentum=0.1))\n",
    "model.add(Conv2D(32, kernel_size=(3, 3),activation='relu'))\n",
    "model.add(BatchNormalization(momentum=0.1))\n",
    "model.add(MaxPooling2D(pool_size=(2, 2)))\n",
    "\n",
    "model.add(Conv2D(64, kernel_size=(3, 3),activation='relu',padding='same'))\n",
    "model.add(BatchNormalization(momentum=0.1))\n",
    "model.add(Conv2D(64, kernel_size=(3, 3),activation='relu',padding='same'))\n",
    "model.add(BatchNormalization(momentum=0.1))\n",
    "model.add(Conv2D(64, kernel_size=(3, 3),activation='relu', padding='same'))\n",
    "model.add(BatchNormalization(momentum=0.1))\n",
    "model.add(Conv2D(64, kernel_size=(3, 3),activation='relu', padding='same'))\n",
    "model.add(BatchNormalization(momentum=0.1))\n",
    "model.add(MaxPooling2D(pool_size=(2, 2)))\n",
    "\n",
    "model.add(Conv2D(128, kernel_size=(3, 3), padding='same',activation='relu'))\n",
    "model.add(BatchNormalization(momentum=0.1))\n",
    "model.add(Conv2D(128, kernel_size=(3, 3),activation='relu',padding='same'))\n",
    "model.add(BatchNormalization(momentum=0.1))\n",
    "model.add(Conv2D(128, kernel_size=(3, 3),activation='relu',padding='same'))\n",
    "model.add(BatchNormalization(momentum=0.1))\n",
    "model.add(Conv2D(128, kernel_size=(3, 3),activation='relu'))\n",
    "model.add(BatchNormalization(momentum=0.1))\n",
    "model.add(MaxPooling2D(pool_size=(2, 2)))\n",
    "\n",
    "model.add(Conv2D(256, kernel_size=(3, 3), padding='same',activation='relu'))\n",
    "model.add(BatchNormalization(momentum=0.1))\n",
    "model.add(Conv2D(256, kernel_size=(3, 3),activation='relu',padding='same'))\n",
    "model.add(BatchNormalization(momentum=0.1))\n",
    "model.add(Conv2D(256, kernel_size=(3, 3),activation='relu',padding='same'))\n",
    "model.add(BatchNormalization(momentum=0.1))\n",
    "model.add(Conv2D(256, kernel_size=(3, 3),activation='relu'))\n",
    "model.add(BatchNormalization(momentum=0.1))\n",
    "model.add(Conv2D(256, kernel_size=(3, 3),activation='relu'))\n",
    "model.add(BatchNormalization(momentum=0.1))\n",
    "model.add(MaxPooling2D(pool_size=(2, 2)))\n",
    "\n",
    "model.add(Conv2D(512, kernel_size=(3, 3), padding='same',activation='relu'))\n",
    "model.add(BatchNormalization(momentum=0.1))\n",
    "model.add(Conv2D(512, kernel_size=(3, 3),activation='relu',padding='same'))\n",
    "model.add(BatchNormalization(momentum=0.1))\n",
    "model.add(Conv2D(512, kernel_size=(3, 3),activation='relu',padding='same'))\n",
    "model.add(BatchNormalization(momentum=0.1))\n",
    "model.add(Conv2D(512, kernel_size=(3, 3),activation='relu'))\n",
    "model.add(BatchNormalization(momentum=0.1))\n",
    "model.add(Conv2D(512, kernel_size=(3, 3),activation='relu'))\n",
    "model.add(BatchNormalization(momentum=0.1))\n",
    "model.add(MaxPooling2D(pool_size=(2, 2)))\n",
    "\n",
    "model.add(GlobalAveragePooling2D())\n",
    "\n",
    "model.add(Flatten(input_shape=(None,150,150)))\n",
    "model.add(Dense(len(classes), activation='softmax'))\n",
    "\n",
    "model.summary()"
   ]
  },
  {
   "cell_type": "code",
   "execution_count": 11,
   "metadata": {},
   "outputs": [
    {
     "name": "stdout",
     "output_type": "stream",
     "text": [
      "14034\n"
     ]
    }
   ],
   "source": [
    "training_count=len(img_list)\n",
    "print(training_count)\n",
    "\n",
    "myOpt=keras.optimizers.Adam(lr=0.0005)\n",
    "model.compile(optimizer=myOpt, loss='sparse_categorical_crossentropy',metrics=['accuracy'])\n",
    "\n",
    "filepath='myModel_weights1.h5'\n",
    "checkpoint=ModelCheckpoint(filepath,monitor=['acc'],verbose=0,mode='max')\n",
    "callbacks_list=[checkpoint]"
   ]
  },
  {
   "cell_type": "code",
   "execution_count": 12,
   "metadata": {},
   "outputs": [
    {
     "name": "stdout",
     "output_type": "stream",
     "text": [
      "WARNING:tensorflow:From /home/kloew/anaconda3/envs/IntelImages/lib/python2.7/site-packages/tensorflow/python/ops/math_ops.py:3066: to_int32 (from tensorflow.python.ops.math_ops) is deprecated and will be removed in a future version.\n",
      "Instructions for updating:\n",
      "Use tf.cast instead.\n",
      "Epoch 1/25\n",
      "47/47 [==============================] - 83s 2s/step - loss: 1.0025 - acc: 0.6170\n",
      "220/220 [==============================] - 1438s 7s/step - loss: 1.3497 - acc: 0.5308 - val_loss: 1.0025 - val_acc: 0.6170\n",
      "Epoch 2/25\n",
      "47/47 [==============================] - 82s 2s/step - loss: 1.0041 - acc: 0.6213\n",
      "220/220 [==============================] - 1435s 7s/step - loss: 1.0021 - acc: 0.6193 - val_loss: 1.0041 - val_acc: 0.6213\n",
      "Epoch 3/25\n",
      "47/47 [==============================] - 82s 2s/step - loss: 0.7510 - acc: 0.7207\n",
      "220/220 [==============================] - 1425s 6s/step - loss: 0.8945 - acc: 0.6679 - val_loss: 0.7510 - val_acc: 0.7207\n",
      "Epoch 4/25\n",
      "47/47 [==============================] - 82s 2s/step - loss: 0.8038 - acc: 0.7197\n",
      "220/220 [==============================] - 1426s 6s/step - loss: 0.8275 - acc: 0.6957 - val_loss: 0.8038 - val_acc: 0.7197\n",
      "Epoch 5/25\n",
      "47/47 [==============================] - 82s 2s/step - loss: 0.7881 - acc: 0.7107\n",
      "220/220 [==============================] - 1421s 6s/step - loss: 0.7716 - acc: 0.7209 - val_loss: 0.7881 - val_acc: 0.7107\n",
      "Epoch 6/25\n",
      "47/47 [==============================] - 82s 2s/step - loss: 0.6840 - acc: 0.7463\n",
      "220/220 [==============================] - 1422s 6s/step - loss: 0.7414 - acc: 0.7354 - val_loss: 0.6840 - val_acc: 0.7463\n",
      "Epoch 7/25\n",
      "47/47 [==============================] - 82s 2s/step - loss: 0.7765 - acc: 0.7353\n",
      "220/220 [==============================] - 1424s 6s/step - loss: 0.6914 - acc: 0.7467 - val_loss: 0.7765 - val_acc: 0.7353\n",
      "Epoch 8/25\n",
      "47/47 [==============================] - 82s 2s/step - loss: 0.6849 - acc: 0.7600\n",
      "220/220 [==============================] - 1423s 6s/step - loss: 0.6728 - acc: 0.7596 - val_loss: 0.6849 - val_acc: 0.7600\n",
      "Epoch 9/25\n",
      "47/47 [==============================] - 82s 2s/step - loss: 0.7777 - acc: 0.7307\n",
      "220/220 [==============================] - 1423s 6s/step - loss: 0.6459 - acc: 0.7701 - val_loss: 0.7777 - val_acc: 0.7307\n",
      "Epoch 10/25\n",
      "47/47 [==============================] - 81s 2s/step - loss: 0.6362 - acc: 0.7630\n",
      "220/220 [==============================] - 1421s 6s/step - loss: 0.6411 - acc: 0.7736 - val_loss: 0.6362 - val_acc: 0.7630\n",
      "Epoch 11/25\n",
      "47/47 [==============================] - 82s 2s/step - loss: 0.9224 - acc: 0.7100\n",
      "220/220 [==============================] - 1420s 6s/step - loss: 0.6135 - acc: 0.7815 - val_loss: 0.9224 - val_acc: 0.7100\n",
      "Epoch 12/25\n",
      "47/47 [==============================] - 82s 2s/step - loss: 0.6845 - acc: 0.7687\n",
      "220/220 [==============================] - 1420s 6s/step - loss: 0.5997 - acc: 0.7908 - val_loss: 0.6845 - val_acc: 0.7687\n",
      "Epoch 13/25\n",
      "47/47 [==============================] - 82s 2s/step - loss: 0.6614 - acc: 0.7580\n",
      "220/220 [==============================] - 1423s 6s/step - loss: 0.5797 - acc: 0.7936 - val_loss: 0.6614 - val_acc: 0.7580\n",
      "Epoch 14/25\n",
      "47/47 [==============================] - 82s 2s/step - loss: 0.6449 - acc: 0.7730\n",
      "220/220 [==============================] - 1429s 6s/step - loss: 0.5783 - acc: 0.7959 - val_loss: 0.6449 - val_acc: 0.7730\n",
      "Epoch 15/25\n",
      "47/47 [==============================] - 82s 2s/step - loss: 0.7933 - acc: 0.7363\n",
      "220/220 [==============================] - 1422s 6s/step - loss: 0.5492 - acc: 0.8076 - val_loss: 0.7933 - val_acc: 0.7363\n",
      "Epoch 16/25\n",
      "47/47 [==============================] - 81s 2s/step - loss: 0.5981 - acc: 0.7863\n",
      "220/220 [==============================] - 1424s 6s/step - loss: 0.5371 - acc: 0.8105 - val_loss: 0.5981 - val_acc: 0.7863\n",
      "Epoch 17/25\n",
      "47/47 [==============================] - 81s 2s/step - loss: 0.7445 - acc: 0.7560\n",
      "220/220 [==============================] - 1419s 6s/step - loss: 0.5191 - acc: 0.8148 - val_loss: 0.7445 - val_acc: 0.7560\n",
      "Epoch 18/25\n",
      "47/47 [==============================] - 82s 2s/step - loss: 0.6266 - acc: 0.7763\n",
      "220/220 [==============================] - 1421s 6s/step - loss: 0.5378 - acc: 0.8138 - val_loss: 0.6266 - val_acc: 0.7763\n",
      "Epoch 19/25\n",
      "47/47 [==============================] - 82s 2s/step - loss: 0.5888 - acc: 0.8020\n",
      "220/220 [==============================] - 1419s 6s/step - loss: 0.5102 - acc: 0.8188 - val_loss: 0.5888 - val_acc: 0.8020\n",
      "Epoch 20/25\n",
      "47/47 [==============================] - 81s 2s/step - loss: 1.0017 - acc: 0.7190\n",
      "220/220 [==============================] - 1419s 6s/step - loss: 0.4889 - acc: 0.8249 - val_loss: 1.0017 - val_acc: 0.7190\n",
      "Epoch 21/25\n",
      "47/47 [==============================] - 82s 2s/step - loss: 0.6408 - acc: 0.7667\n",
      "220/220 [==============================] - 1423s 6s/step - loss: 0.4985 - acc: 0.8245 - val_loss: 0.6408 - val_acc: 0.7667\n",
      "Epoch 22/25\n",
      "47/47 [==============================] - 82s 2s/step - loss: 0.5338 - acc: 0.8037\n",
      "220/220 [==============================] - 1423s 6s/step - loss: 0.4842 - acc: 0.8290 - val_loss: 0.5338 - val_acc: 0.8037\n",
      "Epoch 23/25\n",
      "47/47 [==============================] - 81s 2s/step - loss: 0.8412 - acc: 0.7413\n",
      "220/220 [==============================] - 1442s 7s/step - loss: 0.4791 - acc: 0.8311 - val_loss: 0.8412 - val_acc: 0.7413\n",
      "Epoch 24/25\n",
      "47/47 [==============================] - 82s 2s/step - loss: 0.5956 - acc: 0.7993\n",
      "220/220 [==============================] - 1418s 6s/step - loss: 0.4821 - acc: 0.8291 - val_loss: 0.5956 - val_acc: 0.7993\n",
      "Epoch 25/25\n",
      "47/47 [==============================] - 81s 2s/step - loss: 0.6115 - acc: 0.7917\n",
      "220/220 [==============================] - 1416s 6s/step - loss: 0.4775 - acc: 0.8363 - val_loss: 0.6115 - val_acc: 0.7917\n"
     ]
    }
   ],
   "source": [
    "history=model.fit_generator(train_generator,epochs=35,steps_per_epoch=training_count//batch_size,\n",
    "                            shuffle=True,verbose=1,callbacks=callbacks_list,validation_data=test_generator)"
   ]
  },
  {
   "cell_type": "code",
   "execution_count": 13,
   "metadata": {},
   "outputs": [
    {
     "data": {
      "text/plain": [
       "[<matplotlib.text.Text at 0x7faa3674d850>,\n",
       " <matplotlib.text.Text at 0x7fa9a2972a90>]"
      ]
     },
     "execution_count": 13,
     "metadata": {},
     "output_type": "execute_result"
    },
    {
     "data": {
      "image/png": "[encoded data removed]",
      "text/plain": [
       "<matplotlib.figure.Figure at 0x7faa36222bd0>"
      ]
     },
     "metadata": {
      "needs_background": "light"
     },
     "output_type": "display_data"
    }
   ],
   "source": [
    "# Loss Curves\n",
    "f,(ax1,ax2)=plt.subplots(1,2,figsize=(10,5))\n",
    "ax1.plot(history.history['acc'],'r',label='Training Accuracy')\n",
    "ax1.plot(history.history['val_acc'],'b',label='Validation Accuracy')\n",
    "ax1.legend()\n",
    "ax1.set(xlabel='Epochs',ylabel='Accuracy')\n",
    "\n",
    "ax2.plot(history.history['loss'],'r',label='Training Loss')\n",
    "ax2.plot(history.history['val_loss'],'b',label='Validation Loss')\n",
    "ax2.legend()\n",
    "ax2.set(xlabel='Epochs',ylabel='Loss')"
   ]
  }
 ],
 "metadata": {
  "kernelspec": {
   "display_name": "Python 2",
   "language": "python",
   "name": "python2"
  },
  "language_info": {
   "codemirror_mode": {
    "name": "ipython",
    "version": 2
   },
   "file_extension": ".py",
   "mimetype": "text/x-python",
   "name": "python",
   "nbconvert_exporter": "python",
   "pygments_lexer": "ipython2",
   "version": "2.7.15"
  }
 },
 "nbformat": 4,
 "nbformat_minor": 2
}

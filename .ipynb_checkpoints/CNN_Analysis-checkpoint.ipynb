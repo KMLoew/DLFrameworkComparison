{
 "cells": [
  {
   "cell_type": "code",
   "execution_count": 1,
   "metadata": {},
   "outputs": [
    {
     "name": "stdout",
     "output_type": "stream",
     "text": [
      "python:  3.6.8\n",
      "tensorflow:  1.13.1\n"
     ]
    }
   ],
   "source": [
    "#Libraries\n",
    "%matplotlib inline\n",
    "import numpy as np\n",
    "import matplotlib.pyplot as plt\n",
    "import platform\n",
    "import tensorflow as tf\n",
    "from tensorflow import keras\n",
    "from tensorflow.keras.layers import Activation\n",
    "from tensorflow.keras.layers import Dense, Conv2D, MaxPooling2D, GlobalAveragePooling2D\n",
    "from tensorflow.keras.layers import BatchNormalization, Dropout, Flatten\n",
    "from sklearn.model_selection import train_test_split\n",
    "from tensorflow.keras.models import load_model\n",
    "\n",
    "print('python: ', platform.python_version())\n",
    "print('tensorflow: ', tf.__version__)"
   ]
  },
  {
   "cell_type": "code",
   "execution_count": 2,
   "metadata": {},
   "outputs": [],
   "source": [
    "classes=['buildings', 'forest', 'glacier', 'mountain', 'sea', 'street']\n",
    "\n",
    "training_images, test_images, training_labels, test_labels = train_test_split(np.load('images.npy'), \n",
    "                                                                              np.load('labels.npy'), test_size=0.2)\n",
    "\n",
    "np.save('test_images',test_images)\n",
    "np.save('test_labels',test_labels)\n",
    "\n",
    "np.save('training_images',training_images)\n",
    "np.save('training_labels',training_labels)"
   ]
  },
  {
   "cell_type": "code",
   "execution_count": 3,
   "metadata": {},
   "outputs": [
    {
     "name": "stdout",
     "output_type": "stream",
     "text": [
      "(2400, 150, 150, 3)\n",
      "1.0\n",
      "0.0\n"
     ]
    }
   ],
   "source": [
    "myShape=(training_images.shape)\n",
    "print(myShape)\n",
    "print(np.amax(training_images))\n",
    "print(np.amin(training_images))"
   ]
  },
  {
   "cell_type": "code",
   "execution_count": null,
   "metadata": {},
   "outputs": [
    {
     "name": "stdout",
     "output_type": "stream",
     "text": [
      "WARNING:tensorflow:From /home/kloew/anaconda3/envs/IntelImages/lib/python3.6/site-packages/tensorflow/python/ops/resource_variable_ops.py:435: colocate_with (from tensorflow.python.framework.ops) is deprecated and will be removed in a future version.\n",
      "Instructions for updating:\n",
      "Colocations handled automatically by placer.\n",
      "_________________________________________________________________\n",
      "Layer (type)                 Output Shape              Param #   \n",
      "=================================================================\n",
      "conv2d (Conv2D)              (None, 150, 150, 32)      896       \n",
      "_________________________________________________________________\n",
      "conv2d_1 (Conv2D)            (None, 150, 150, 32)      9248      \n",
      "_________________________________________________________________\n",
      "batch_normalization_v1 (Batc (None, 150, 150, 32)      128       \n",
      "_________________________________________________________________\n",
      "conv2d_2 (Conv2D)            (None, 148, 148, 32)      9248      \n",
      "_________________________________________________________________\n",
      "batch_normalization_v1_1 (Ba (None, 148, 148, 32)      128       \n",
      "_________________________________________________________________\n",
      "max_pooling2d (MaxPooling2D) (None, 74, 74, 32)        0         \n",
      "_________________________________________________________________\n",
      "conv2d_3 (Conv2D)            (None, 74, 74, 64)        18496     \n",
      "_________________________________________________________________\n",
      "batch_normalization_v1_2 (Ba (None, 74, 74, 64)        256       \n",
      "_________________________________________________________________\n",
      "conv2d_4 (Conv2D)            (None, 74, 74, 64)        36928     \n",
      "_________________________________________________________________\n",
      "batch_normalization_v1_3 (Ba (None, 74, 74, 64)        256       \n",
      "_________________________________________________________________\n",
      "conv2d_5 (Conv2D)            (None, 74, 74, 64)        36928     \n",
      "_________________________________________________________________\n",
      "batch_normalization_v1_4 (Ba (None, 74, 74, 64)        256       \n",
      "_________________________________________________________________\n",
      "conv2d_6 (Conv2D)            (None, 74, 74, 64)        36928     \n",
      "_________________________________________________________________\n",
      "batch_normalization_v1_5 (Ba (None, 74, 74, 64)        256       \n",
      "_________________________________________________________________\n",
      "max_pooling2d_1 (MaxPooling2 (None, 37, 37, 64)        0         \n",
      "_________________________________________________________________\n",
      "conv2d_7 (Conv2D)            (None, 37, 37, 128)       73856     \n",
      "_________________________________________________________________\n",
      "batch_normalization_v1_6 (Ba (None, 37, 37, 128)       512       \n",
      "_________________________________________________________________\n",
      "conv2d_8 (Conv2D)            (None, 37, 37, 128)       147584    \n",
      "_________________________________________________________________\n",
      "batch_normalization_v1_7 (Ba (None, 37, 37, 128)       512       \n",
      "_________________________________________________________________\n",
      "conv2d_9 (Conv2D)            (None, 37, 37, 128)       147584    \n",
      "_________________________________________________________________\n",
      "batch_normalization_v1_8 (Ba (None, 37, 37, 128)       512       \n",
      "_________________________________________________________________\n",
      "conv2d_10 (Conv2D)           (None, 35, 35, 128)       147584    \n",
      "_________________________________________________________________\n",
      "batch_normalization_v1_9 (Ba (None, 35, 35, 128)       512       \n",
      "_________________________________________________________________\n",
      "max_pooling2d_2 (MaxPooling2 (None, 17, 17, 128)       0         \n",
      "_________________________________________________________________\n",
      "conv2d_11 (Conv2D)           (None, 17, 17, 256)       295168    \n",
      "_________________________________________________________________\n",
      "batch_normalization_v1_10 (B (None, 17, 17, 256)       1024      \n",
      "_________________________________________________________________\n",
      "conv2d_12 (Conv2D)           (None, 17, 17, 256)       590080    \n",
      "_________________________________________________________________\n",
      "batch_normalization_v1_11 (B (None, 17, 17, 256)       1024      \n",
      "_________________________________________________________________\n",
      "conv2d_13 (Conv2D)           (None, 17, 17, 256)       590080    \n",
      "_________________________________________________________________\n",
      "batch_normalization_v1_12 (B (None, 17, 17, 256)       1024      \n",
      "_________________________________________________________________\n",
      "conv2d_14 (Conv2D)           (None, 15, 15, 256)       590080    \n",
      "_________________________________________________________________\n",
      "batch_normalization_v1_13 (B (None, 15, 15, 256)       1024      \n",
      "_________________________________________________________________\n",
      "conv2d_15 (Conv2D)           (None, 13, 13, 256)       590080    \n",
      "_________________________________________________________________\n",
      "batch_normalization_v1_14 (B (None, 13, 13, 256)       1024      \n",
      "_________________________________________________________________\n",
      "max_pooling2d_3 (MaxPooling2 (None, 6, 6, 256)         0         \n",
      "_________________________________________________________________\n",
      "conv2d_16 (Conv2D)           (None, 6, 6, 512)         1180160   \n",
      "_________________________________________________________________\n",
      "batch_normalization_v1_15 (B (None, 6, 6, 512)         2048      \n",
      "_________________________________________________________________\n",
      "conv2d_17 (Conv2D)           (None, 6, 6, 512)         2359808   \n",
      "_________________________________________________________________\n",
      "batch_normalization_v1_16 (B (None, 6, 6, 512)         2048      \n",
      "_________________________________________________________________\n",
      "conv2d_18 (Conv2D)           (None, 6, 6, 512)         2359808   \n",
      "_________________________________________________________________\n",
      "batch_normalization_v1_17 (B (None, 6, 6, 512)         2048      \n",
      "_________________________________________________________________\n",
      "conv2d_19 (Conv2D)           (None, 4, 4, 512)         2359808   \n",
      "_________________________________________________________________\n",
      "batch_normalization_v1_18 (B (None, 4, 4, 512)         2048      \n",
      "_________________________________________________________________\n",
      "conv2d_20 (Conv2D)           (None, 2, 2, 512)         2359808   \n",
      "_________________________________________________________________\n",
      "batch_normalization_v1_19 (B (None, 2, 2, 512)         2048      \n",
      "_________________________________________________________________\n",
      "max_pooling2d_4 (MaxPooling2 (None, 1, 1, 512)         0         \n",
      "_________________________________________________________________\n",
      "global_average_pooling2d (Gl (None, 512)               0         \n",
      "_________________________________________________________________\n",
      "flatten (Flatten)            (None, 512)               0         \n",
      "_________________________________________________________________\n",
      "dense (Dense)                (None, 6)                 3078      \n",
      "=================================================================\n",
      "Total params: 13,961,926\n",
      "Trainable params: 13,952,582\n",
      "Non-trainable params: 9,344\n",
      "_________________________________________________________________\n"
     ]
    }
   ],
   "source": [
    "model=keras.Sequential()\n",
    "model.add(Conv2D(32, kernel_size=(3, 3),padding='same',activation='relu',input_shape=myShape[1:]))\n",
    "model.add(Conv2D(32, kernel_size=(3, 3),activation='relu',padding='same'))\n",
    "model.add(BatchNormalization(momentum=0.1))\n",
    "model.add(Conv2D(32, kernel_size=(3, 3),activation='relu'))\n",
    "model.add(BatchNormalization(momentum=0.1))\n",
    "model.add(MaxPooling2D(pool_size=(2, 2)))\n",
    "#model.add(Dropout(rate=0.25))\n",
    "\n",
    "model.add(Conv2D(64, kernel_size=(3, 3),activation='relu',padding='same'))\n",
    "model.add(BatchNormalization(momentum=0.1))\n",
    "model.add(Conv2D(64, kernel_size=(3, 3),activation='relu',padding='same'))\n",
    "model.add(BatchNormalization(momentum=0.1))\n",
    "model.add(Conv2D(64, kernel_size=(3, 3),activation='relu', padding='same'))\n",
    "model.add(BatchNormalization(momentum=0.1))\n",
    "model.add(Conv2D(64, kernel_size=(3, 3),activation='relu', padding='same'))\n",
    "model.add(BatchNormalization(momentum=0.1))\n",
    "model.add(MaxPooling2D(pool_size=(2, 2)))\n",
    "#model.add(Dropout(rate=0.25))\n",
    "\n",
    "model.add(Conv2D(128, kernel_size=(3, 3), padding='same',activation='relu'))\n",
    "model.add(BatchNormalization(momentum=0.1))\n",
    "model.add(Conv2D(128, kernel_size=(3, 3),activation='relu',padding='same'))\n",
    "model.add(BatchNormalization(momentum=0.1))\n",
    "model.add(Conv2D(128, kernel_size=(3, 3),activation='relu',padding='same'))\n",
    "model.add(BatchNormalization(momentum=0.1))\n",
    "model.add(Conv2D(128, kernel_size=(3, 3),activation='relu'))\n",
    "model.add(BatchNormalization(momentum=0.1))\n",
    "model.add(MaxPooling2D(pool_size=(2, 2)))\n",
    "#model.add(Dropout(rate=0.25))\n",
    "\n",
    "model.add(Conv2D(256, kernel_size=(3, 3), padding='same',activation='relu'))\n",
    "model.add(BatchNormalization(momentum=0.1))\n",
    "model.add(Conv2D(256, kernel_size=(3, 3),activation='relu',padding='same'))\n",
    "model.add(BatchNormalization(momentum=0.1))\n",
    "model.add(Conv2D(256, kernel_size=(3, 3),activation='relu',padding='same'))\n",
    "model.add(BatchNormalization(momentum=0.1))\n",
    "model.add(Conv2D(256, kernel_size=(3, 3),activation='relu'))\n",
    "model.add(BatchNormalization(momentum=0.1))\n",
    "model.add(Conv2D(256, kernel_size=(3, 3),activation='relu'))\n",
    "model.add(BatchNormalization(momentum=0.1))\n",
    "model.add(MaxPooling2D(pool_size=(2, 2)))\n",
    "#model.add(Dropout(rate=0.25))\n",
    "\n",
    "model.add(Conv2D(512, kernel_size=(3, 3), padding='same',activation='relu'))\n",
    "model.add(BatchNormalization(momentum=0.1))\n",
    "model.add(Conv2D(512, kernel_size=(3, 3),activation='relu',padding='same'))\n",
    "model.add(BatchNormalization(momentum=0.1))\n",
    "model.add(Conv2D(512, kernel_size=(3, 3),activation='relu',padding='same'))\n",
    "model.add(BatchNormalization(momentum=0.1))\n",
    "model.add(Conv2D(512, kernel_size=(3, 3),activation='relu'))\n",
    "model.add(BatchNormalization(momentum=0.1))\n",
    "model.add(Conv2D(512, kernel_size=(3, 3),activation='relu'))\n",
    "model.add(BatchNormalization(momentum=0.1))\n",
    "model.add(MaxPooling2D(pool_size=(2, 2)))\n",
    "#model.add(Dropout(rate=0.5))\n",
    "\n",
    "model.add(GlobalAveragePooling2D())\n",
    "\n",
    "model.add(Flatten(input_shape=(None,myShape[0],myShape[1])))\n",
    "model.add(Dense(len(classes), activation='softmax'))\n",
    "\n",
    "model.summary()"
   ]
  },
  {
   "cell_type": "code",
   "execution_count": null,
   "metadata": {},
   "outputs": [],
   "source": [
    "myOpt=keras.optimizers.Adam(lr=0.0002)\n",
    "model.compile(optimizer=myOpt, loss='sparse_categorical_crossentropy',metrics=['accuracy'])"
   ]
  },
  {
   "cell_type": "code",
   "execution_count": null,
   "metadata": {},
   "outputs": [
    {
     "name": "stdout",
     "output_type": "stream",
     "text": [
      "Train on 2400 samples, validate on 600 samples\n",
      "WARNING:tensorflow:From /home/kloew/anaconda3/envs/IntelImages/lib/python3.6/site-packages/tensorflow/python/ops/math_ops.py:3066: to_int32 (from tensorflow.python.ops.math_ops) is deprecated and will be removed in a future version.\n",
      "Instructions for updating:\n",
      "Use tf.cast instead.\n",
      "Epoch 1/30\n",
      "2400/2400 [==============================] - 596s 248ms/sample - loss: 1.8847 - acc: 0.4538 - val_loss: 1.2701 - val_acc: 0.5267\n",
      "Epoch 2/30\n",
      "2400/2400 [==============================] - 615s 256ms/sample - loss: 1.0732 - acc: 0.5942 - val_loss: 1.0344 - val_acc: 0.6367\n",
      "Epoch 3/30\n",
      " 576/2400 [======>.......................] - ETA: 7:11 - loss: 0.7346 - acc: 0.7292"
     ]
    }
   ],
   "source": [
    "history = model.fit(training_images, training_labels, epochs=30, verbose=1,\n",
    "                   validation_data=(test_images, test_labels) )"
   ]
  },
  {
   "cell_type": "code",
   "execution_count": null,
   "metadata": {},
   "outputs": [],
   "source": [
    "f, (ax1, ax2) = plt.subplots(1, 2,figsize=(10,5))\n",
    "#f.suptitle('Comparing the Images')\n",
    "ax1.plot(history.history['acc'],'r',label='Training Accuracy')\n",
    "ax1.plot(history.history['val_acc'],'b',label='Validation Accuracy')\n",
    "ax1.legend()\n",
    "ax1.set(xlabel='Epochs', ylabel='Accuracy')\n",
    "\n",
    "ax2.plot(history.history['loss'],'r',label='Training loss')\n",
    "ax2.plot(history.history['val_loss'],'b',label='Validation Loss')\n",
    "ax2.legend()\n",
    "ax.set(xlabel='Epochs', ylabel='Loss')"
   ]
  },
  {
   "cell_type": "code",
   "execution_count": null,
   "metadata": {},
   "outputs": [],
   "source": [
    "model.save('my_model.h5')"
   ]
  },
  {
   "cell_type": "code",
   "execution_count": null,
   "metadata": {},
   "outputs": [],
   "source": [
    "base_model = resnet50.ResNet50(weights=None,input_shape=myShape[1:])\n",
    "\n",
    "x=base_model.output\n",
    "x=GlobalAveragePooling2D()x\n",
    "predictions=Dense(len(classes),activation='softmax')(x)\n",
    "\n",
    "resnet_model=Model(inputs=base_model.input,outputs=predictions)\n",
    "resnet_model.compile(optimizer=myOpt, loss='sparse_categorical_crossentropy',metrics=['accuracy'])"
   ]
  },
  {
   "cell_type": "code",
   "execution_count": null,
   "metadata": {},
   "outputs": [],
   "source": [
    "resnet_history = resnet_model.fit(training_images, training_labels, epochs=30, verbose=1,\n",
    "                   validation_data=(test_images, test_labels) )"
   ]
  },
  {
   "cell_type": "code",
   "execution_count": null,
   "metadata": {},
   "outputs": [],
   "source": [
    "f, (ax1, ax2) = plt.subplots(1, 2,figsize=(10,5))\n",
    "#f.suptitle('Comparing the Images')\n",
    "#ax1.plot(history.history['acc'],'r',label='Training Accuracy (My Model)')\n",
    "#ax1.plot(history.history['val_acc'],'b',label='Validation Accuracy (My Model)')\n",
    "ax1.plot(resnet_history.history['acc'],'r--',label='Training Accuracy (ResNet)')\n",
    "ax1.plot(resnet_history.history['val_acc'],'b--',label='Validation Accuracy (ResNet)')\n",
    "ax1.legend()\n",
    "ax1.set(xlabel='Epochs', ylabel='Accuracy')\n",
    "\n",
    "#ax2.plot(history.history['loss'],'r',label='Training loss (My Model)')\n",
    "#ax2.plot(history.history['val_loss'],'b',label='Validation Loss (My Model)')\n",
    "ax2.plot(resnet_history.history['loss'],'r',label='Training loss (ResNet)')\n",
    "ax2.plot(resnet_history.history['val_loss'],'b',label='Validation Loss (ResNet)')\n",
    "ax2.legend()\n",
    "ax.set(xlabel='Epochs', ylabel='Loss')"
   ]
  }
 ],
 "metadata": {
  "kernelspec": {
   "display_name": "Python 3",
   "language": "python",
   "name": "python3"
  },
  "language_info": {
   "codemirror_mode": {
    "name": "ipython",
    "version": 3
   },
   "file_extension": ".py",
   "mimetype": "text/x-python",
   "name": "python",
   "nbconvert_exporter": "python",
   "pygments_lexer": "ipython3",
   "version": "3.6.8"
  }
 },
 "nbformat": 4,
 "nbformat_minor": 2
}

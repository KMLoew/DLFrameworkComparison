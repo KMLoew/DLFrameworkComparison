{
 "cells": [
  {
   "cell_type": "code",
   "execution_count": 1,
   "metadata": {},
   "outputs": [
    {
     "name": "stdout",
     "output_type": "stream",
     "text": [
      "python:  3.6.8\n",
      "tensorflow:  1.13.1\n"
     ]
    }
   ],
   "source": [
    "%matplotlib inline\n",
    "import numpy as np\n",
    "import matplotlib.pyplot as plt\n",
    "import platform\n",
    "import tensorflow as tf\n",
    "from tensorflow import keras\n",
    "from tensorflow.keras.models import Sequential, Model\n",
    "from tensorflow.keras.preprocessing.image import ImageDataGenerator\n",
    "from tensorflow.keras.preprocessing import image\n",
    "from tensorflow.keras.layers import *\n",
    "from tensorflow.keras.callbacks import ModelCheckpoint\n",
    "#from PIL import Image\n",
    "import os\n",
    "\n",
    "print('python: ', platform.python_version())\n",
    "print('tensorflow: ', tf.__version__)"
   ]
  },
  {
   "cell_type": "code",
   "execution_count": 2,
   "metadata": {},
   "outputs": [],
   "source": [
    "training_path='seg_train'\n",
    "test_path='seg_test'"
   ]
  },
  {
   "cell_type": "code",
   "execution_count": 3,
   "metadata": {},
   "outputs": [],
   "source": [
    "class_dict={}\n",
    "for i in os.listdir(training_path):\n",
    "    class_dict[i] =  os.listdir(training_path+'/'+i)"
   ]
  },
  {
   "cell_type": "code",
   "execution_count": 4,
   "metadata": {},
   "outputs": [],
   "source": [
    "img_list = []\n",
    "class_list = []\n",
    "classes = []\n",
    "dr = []"
   ]
  },
  {
   "cell_type": "code",
   "execution_count": 5,
   "metadata": {},
   "outputs": [],
   "source": [
    "for ii in class_dict:\n",
    "    classes.append(ii)"
   ]
  },
  {
   "cell_type": "code",
   "execution_count": 6,
   "metadata": {},
   "outputs": [],
   "source": [
    "for ii,val in enumerate(class_dict.values()):\n",
    "    for img in val :\n",
    "        img_list.append(img)\n",
    "        class_list.append(classes[ii])"
   ]
  },
  {
   "cell_type": "code",
   "execution_count": 7,
   "metadata": {},
   "outputs": [],
   "source": [
    "for ii in range(len(class_list)):\n",
    "    dr.append(training_path+'/'+class_list[ii]+'/'+img_list[ii])"
   ]
  },
  {
   "cell_type": "code",
   "execution_count": 8,
   "metadata": {},
   "outputs": [],
   "source": [
    "train_data_generator=ImageDataGenerator(rescale=1.0/255,rotation_range=45,horizontal_flip=True,vertical_flip=True)\n",
    "\n",
    "test_data_generator=ImageDataGenerator(rescale=1.0/255)"
   ]
  },
  {
   "cell_type": "code",
   "execution_count": null,
   "metadata": {},
   "outputs": [
    {
     "name": "stdout",
     "output_type": "stream",
     "text": [
      "Found 14034 images belonging to 6 classes.\n",
      "Found 3000 images belonging to 6 classes.\n"
     ]
    }
   ],
   "source": [
    "batch_size=64 \n",
    "\n",
    "train_generator=train_data_generator.flow_from_directory(training_path,target_size = (150,150),\n",
    "                                                         batch_size=batch_size,class_mode='sparse')\n",
    "\n",
    "test_generator=test_data_generator.flow_from_directory(test_path,target_size=(150,150),\n",
    "                                                       batch_size=batch_size,class_mode='sparse')"
   ]
  },
  {
   "cell_type": "code",
   "execution_count": null,
   "metadata": {},
   "outputs": [
    {
     "name": "stdout",
     "output_type": "stream",
     "text": [
      "WARNING:tensorflow:From /home/kloew/anaconda3/envs/IntelImages/lib/python3.6/site-packages/tensorflow/python/ops/resource_variable_ops.py:435: colocate_with (from tensorflow.python.framework.ops) is deprecated and will be removed in a future version.\n",
      "Instructions for updating:\n",
      "Colocations handled automatically by placer.\n",
      "WARNING:tensorflow:From /home/kloew/anaconda3/envs/IntelImages/lib/python3.6/site-packages/tensorflow/python/keras/layers/core.py:143: calling dropout (from tensorflow.python.ops.nn_ops) with keep_prob is deprecated and will be removed in a future version.\n",
      "Instructions for updating:\n",
      "Please use `rate` instead of `keep_prob`. Rate should be set to `rate = 1 - keep_prob`.\n",
      "_________________________________________________________________\n",
      "Layer (type)                 Output Shape              Param #   \n",
      "=================================================================\n",
      "conv2d (Conv2D)              (None, 148, 148, 64)      1792      \n",
      "_________________________________________________________________\n",
      "conv2d_1 (Conv2D)            (None, 146, 146, 64)      36928     \n",
      "_________________________________________________________________\n",
      "batch_normalization_v1 (Batc (None, 146, 146, 64)      256       \n",
      "_________________________________________________________________\n",
      "activation (Activation)      (None, 146, 146, 64)      0         \n",
      "_________________________________________________________________\n",
      "max_pooling2d (MaxPooling2D) (None, 29, 29, 64)        0         \n",
      "_________________________________________________________________\n",
      "conv2d_2 (Conv2D)            (None, 27, 27, 128)       73856     \n",
      "_________________________________________________________________\n",
      "batch_normalization_v1_1 (Ba (None, 27, 27, 128)       512       \n",
      "_________________________________________________________________\n",
      "activation_1 (Activation)    (None, 27, 27, 128)       0         \n",
      "_________________________________________________________________\n",
      "conv2d_3 (Conv2D)            (None, 25, 25, 128)       147584    \n",
      "_________________________________________________________________\n",
      "batch_normalization_v1_2 (Ba (None, 25, 25, 128)       512       \n",
      "_________________________________________________________________\n",
      "activation_2 (Activation)    (None, 25, 25, 128)       0         \n",
      "_________________________________________________________________\n",
      "conv2d_4 (Conv2D)            (None, 23, 23, 128)       147584    \n",
      "_________________________________________________________________\n",
      "batch_normalization_v1_3 (Ba (None, 23, 23, 128)       512       \n",
      "_________________________________________________________________\n",
      "activation_3 (Activation)    (None, 23, 23, 128)       0         \n",
      "_________________________________________________________________\n",
      "conv2d_5 (Conv2D)            (None, 21, 21, 128)       147584    \n",
      "_________________________________________________________________\n",
      "batch_normalization_v1_4 (Ba (None, 21, 21, 128)       512       \n",
      "_________________________________________________________________\n",
      "activation_4 (Activation)    (None, 21, 21, 128)       0         \n",
      "_________________________________________________________________\n",
      "max_pooling2d_1 (MaxPooling2 (None, 4, 4, 128)         0         \n",
      "_________________________________________________________________\n",
      "flatten (Flatten)            (None, 2048)              0         \n",
      "_________________________________________________________________\n",
      "dense (Dense)                (None, 128)               262272    \n",
      "_________________________________________________________________\n",
      "dense_1 (Dense)              (None, 64)                8256      \n",
      "_________________________________________________________________\n",
      "dropout (Dropout)            (None, 64)                0         \n",
      "_________________________________________________________________\n",
      "dense_2 (Dense)              (None, 6)                 390       \n",
      "=================================================================\n",
      "Total params: 828,550\n",
      "Trainable params: 827,398\n",
      "Non-trainable params: 1,152\n",
      "_________________________________________________________________\n"
     ]
    }
   ],
   "source": [
    "p=0.9 #momentum\n",
    "\n",
    "model=keras.Sequential()\n",
    "\n",
    "model.add(Conv2D(64, kernel_size=(3,3),activation='relu',input_shape=(150,150,3)))\n",
    "model.add(Conv2D(64, kernel_size=(3,3)))\n",
    "model.add(BatchNormalization(momentum=p))\n",
    "model.add(Activation('relu'))\n",
    "model.add(MaxPooling2D(pool_size=(5,5)))\n",
    "\n",
    "model.add(Conv2D(128, kernel_size=(3,3)))\n",
    "model.add(BatchNormalization(momentum=p))\n",
    "model.add(Activation('relu'))\n",
    "model.add(Conv2D(128, kernel_size=(3, 3)))\n",
    "model.add(BatchNormalization(momentum=p))\n",
    "model.add(Activation('relu'))\n",
    "model.add(Conv2D(128, kernel_size=(3, 3)))\n",
    "model.add(BatchNormalization(momentum=p))\n",
    "model.add(Activation('relu'))\n",
    "model.add(Conv2D(128, kernel_size=(3, 3)))\n",
    "model.add(BatchNormalization(momentum=p))\n",
    "model.add(Activation('relu'))\n",
    "model.add(MaxPooling2D(pool_size=(5,5)))\n",
    "\n",
    "#model.add(AveragePooling2D(pool_size=(5,5)))\n",
    "\n",
    "model.add(Flatten())\n",
    "model.add(Dense(128,activation='relu'))\n",
    "model.add(Dense(64,activation='relu'))\n",
    "model.add(Dropout(rate=0.5))\n",
    "model.add(Dense(len(classes), activation='softmax'))\n",
    "\n",
    "model.summary()"
   ]
  },
  {
   "cell_type": "code",
   "execution_count": null,
   "metadata": {},
   "outputs": [
    {
     "name": "stdout",
     "output_type": "stream",
     "text": [
      "14034\n"
     ]
    }
   ],
   "source": [
    "training_count=len(img_list)\n",
    "print(training_count)\n",
    "\n",
    "myOpt=keras.optimizers.Adam(lr=0.0005)\n",
    "model.compile(optimizer=myOpt, loss='sparse_categorical_crossentropy',metrics=['accuracy'])\n",
    "\n",
    "filepath='myModel_weights1.h5'\n",
    "checkpoint=ModelCheckpoint(filepath,monitor=['acc'],verbose=0,mode='max')\n",
    "callbacks_list=[checkpoint]"
   ]
  },
  {
   "cell_type": "code",
   "execution_count": null,
   "metadata": {},
   "outputs": [
    {
     "name": "stdout",
     "output_type": "stream",
     "text": [
      "Epoch 1/35\n",
      "47/47 [==============================] - 51s 1s/step - loss: 1.2152 - acc: 0.5337\n",
      "220/220 [==============================] - 860s 4s/step - loss: 1.3685 - acc: 0.4538 - val_loss: 1.2152 - val_acc: 0.5337\n",
      "Epoch 2/35\n",
      "47/47 [==============================] - 57s 1s/step - loss: 1.0086 - acc: 0.6140\n",
      "220/220 [==============================] - 960s 4s/step - loss: 1.0762 - acc: 0.5799 - val_loss: 1.0086 - val_acc: 0.6140\n",
      "Epoch 3/35\n",
      " 53/220 [======>.......................] - ETA: 12:01 - loss: 0.9252 - acc: 0.6424"
     ]
    }
   ],
   "source": [
    "history=model.fit_generator(train_generator,epochs=35,steps_per_epoch=training_count//batch_size,\n",
    "                            shuffle=True,verbose=1,callbacks=callbacks_list,validation_data=test_generator)"
   ]
  },
  {
   "cell_type": "code",
   "execution_count": null,
   "metadata": {},
   "outputs": [],
   "source": [
    "# Loss Curves\n",
    "f,(ax1,ax2)=plt.subplots(1,2,figsize=(10,5))\n",
    "ax1.plot(history.history['acc'],'r',label='Training Accuracy')\n",
    "ax1.plot(history.history['val_acc'],'b',label='Validation Accuracy')\n",
    "ax1.legend()\n",
    "ax1.set(xlabel='Epochs',ylabel='Accuracy')\n",
    "\n",
    "ax2.plot(history.history['loss'],'r',label='Training Loss')\n",
    "ax2.plot(history.history['val_loss'],'b',label='Validation Loss')\n",
    "ax2.legend()\n",
    "ax2.set(xlabel='Epochs',ylabel='Loss')"
   ]
  }
 ],
 "metadata": {
  "kernelspec": {
   "display_name": "Python 3",
   "language": "python",
   "name": "python3"
  },
  "language_info": {
   "codemirror_mode": {
    "name": "ipython",
    "version": 3
   },
   "file_extension": ".py",
   "mimetype": "text/x-python",
   "name": "python",
   "nbconvert_exporter": "python",
   "pygments_lexer": "ipython3",
   "version": "3.6.8"
  }
 },
 "nbformat": 4,
 "nbformat_minor": 2
}

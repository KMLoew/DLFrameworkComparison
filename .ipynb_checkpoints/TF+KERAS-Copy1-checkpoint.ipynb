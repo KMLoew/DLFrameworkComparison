{
 "cells": [
  {
   "cell_type": "code",
   "execution_count": 1,
   "metadata": {},
   "outputs": [
    {
     "name": "stdout",
     "output_type": "stream",
     "text": [
      "('python: ', '2.7.15')\n",
      "('tensorflow: ', '1.13.1')\n"
     ]
    }
   ],
   "source": [
    "%matplotlib inline\n",
    "import numpy as np\n",
    "import matplotlib.pyplot as plt\n",
    "import platform\n",
    "import tensorflow as tf\n",
    "from tensorflow import keras\n",
    "from tensorflow.keras.models import Sequential, Model\n",
    "from tensorflow.keras.preprocessing.image import ImageDataGenerator\n",
    "from tensorflow.keras.preprocessing import image\n",
    "from tensorflow.keras.layers import *\n",
    "from tensorflow.keras.callbacks import ModelCheckpoint\n",
    "from PIL import Image\n",
    "import os\n",
    "\n",
    "print('python: ', platform.python_version())\n",
    "print('tensorflow: ', tf.__version__)"
   ]
  },
  {
   "cell_type": "code",
   "execution_count": 2,
   "metadata": {},
   "outputs": [],
   "source": [
    "training_path='seg_train'\n",
    "test_path='seg_test'"
   ]
  },
  {
   "cell_type": "code",
   "execution_count": 3,
   "metadata": {},
   "outputs": [],
   "source": [
    "class_dict={}\n",
    "for i in os.listdir(training_path):\n",
    "    class_dict[i] =  os.listdir(training_path+'/'+i)"
   ]
  },
  {
   "cell_type": "code",
   "execution_count": 4,
   "metadata": {},
   "outputs": [],
   "source": [
    "img_list = []\n",
    "class_list = []\n",
    "classes = []\n",
    "dr = []"
   ]
  },
  {
   "cell_type": "code",
   "execution_count": 5,
   "metadata": {},
   "outputs": [],
   "source": [
    "for ii in class_dict:\n",
    "    classes.append(ii)"
   ]
  },
  {
   "cell_type": "code",
   "execution_count": 6,
   "metadata": {},
   "outputs": [],
   "source": [
    "for ii,val in enumerate(class_dict.values()):\n",
    "    for img in val :\n",
    "        img_list.append(img)\n",
    "        class_list.append(classes[ii])"
   ]
  },
  {
   "cell_type": "code",
   "execution_count": 7,
   "metadata": {},
   "outputs": [],
   "source": [
    "for ii in range(len(class_list)):\n",
    "    dr.append(training_path+'/'+class_list[ii]+'/'+img_list[ii])"
   ]
  },
  {
   "cell_type": "code",
   "execution_count": 8,
   "metadata": {},
   "outputs": [],
   "source": [
    "train_data_generator=ImageDataGenerator(rescale=1.0/255,rotation_range=45,horizontal_flip=True,vertical_flip=True)\n",
    "\n",
    "test_data_generator=ImageDataGenerator(rescale=1.0/255)"
   ]
  },
  {
   "cell_type": "code",
   "execution_count": 9,
   "metadata": {},
   "outputs": [
    {
     "name": "stdout",
     "output_type": "stream",
     "text": [
      "Found 14034 images belonging to 6 classes.\n",
      "Found 3000 images belonging to 6 classes.\n"
     ]
    }
   ],
   "source": [
    "batch_size=64 \n",
    "\n",
    "train_generator=train_data_generator.flow_from_directory(training_path,target_size = (150,150),\n",
    "                                                         batch_size=batch_size,class_mode='sparse')\n",
    "\n",
    "test_generator=test_data_generator.flow_from_directory(test_path,target_size=(150,150),\n",
    "                                                       batch_size=batch_size,class_mode='sparse')"
   ]
  },
  {
   "cell_type": "code",
   "execution_count": 10,
   "metadata": {},
   "outputs": [
    {
     "name": "stdout",
     "output_type": "stream",
     "text": [
      "WARNING:tensorflow:From /home/kloew/anaconda3/envs/IntelImages/lib/python2.7/site-packages/tensorflow/python/ops/resource_variable_ops.py:435: colocate_with (from tensorflow.python.framework.ops) is deprecated and will be removed in a future version.\n",
      "Instructions for updating:\n",
      "Colocations handled automatically by placer.\n",
      "WARNING:tensorflow:From /home/kloew/anaconda3/envs/IntelImages/lib/python2.7/site-packages/tensorflow/python/keras/layers/core.py:143: calling dropout (from tensorflow.python.ops.nn_ops) with keep_prob is deprecated and will be removed in a future version.\n",
      "Instructions for updating:\n",
      "Please use `rate` instead of `keep_prob`. Rate should be set to `rate = 1 - keep_prob`.\n",
      "_________________________________________________________________\n",
      "Layer (type)                 Output Shape              Param #   \n",
      "=================================================================\n",
      "conv2d (Conv2D)              (None, 148, 148, 64)      1792      \n",
      "_________________________________________________________________\n",
      "conv2d_1 (Conv2D)            (None, 146, 146, 128)     73856     \n",
      "_________________________________________________________________\n",
      "max_pooling2d (MaxPooling2D) (None, 29, 29, 128)       0         \n",
      "_________________________________________________________________\n",
      "conv2d_2 (Conv2D)            (None, 27, 27, 160)       184480    \n",
      "_________________________________________________________________\n",
      "conv2d_3 (Conv2D)            (None, 25, 25, 192)       276672    \n",
      "_________________________________________________________________\n",
      "conv2d_4 (Conv2D)            (None, 23, 23, 224)       387296    \n",
      "_________________________________________________________________\n",
      "conv2d_5 (Conv2D)            (None, 21, 21, 256)       516352    \n",
      "_________________________________________________________________\n",
      "max_pooling2d_1 (MaxPooling2 (None, 4, 4, 256)         0         \n",
      "_________________________________________________________________\n",
      "flatten (Flatten)            (None, 4096)              0         \n",
      "_________________________________________________________________\n",
      "dense (Dense)                (None, 180)               737460    \n",
      "_________________________________________________________________\n",
      "dense_1 (Dense)              (None, 100)               18100     \n",
      "_________________________________________________________________\n",
      "dense_2 (Dense)              (None, 50)                5050      \n",
      "_________________________________________________________________\n",
      "dropout (Dropout)            (None, 50)                0         \n",
      "_________________________________________________________________\n",
      "dense_3 (Dense)              (None, 6)                 306       \n",
      "=================================================================\n",
      "Total params: 2,201,364\n",
      "Trainable params: 2,201,364\n",
      "Non-trainable params: 0\n",
      "_________________________________________________________________\n"
     ]
    }
   ],
   "source": [
    "model=Sequential()\n",
    "\n",
    "model.add(Conv2D(64,kernel_size=(3,3),activation='relu',input_shape=(150,150,3)))\n",
    "model.add(Conv2D(128,kernel_size=(3,3),activation='relu'))\n",
    "model.add(MaxPool2D(5,5))\n",
    "model.add(Conv2D(160,kernel_size=(3,3),activation='relu'))\n",
    "model.add(Conv2D(192,kernel_size=(3,3),activation='relu'))\n",
    "model.add(Conv2D(224,kernel_size=(3,3),activation='relu'))\n",
    "model.add(Conv2D(256,kernel_size=(3,3),activation='relu'))\n",
    "model.add(MaxPool2D(5,5))\n",
    "model.add(Flatten())\n",
    "model.add(Dense(180,activation='relu'))\n",
    "model.add(Dense(100,activation='relu'))\n",
    "model.add(Dense(50,activation='relu'))\n",
    "model.add(Dropout(rate=0.5))\n",
    "model.add(Dense(len(classes),activation='softmax'))\n",
    "\n",
    "model.summary()"
   ]
  },
  {
   "cell_type": "code",
   "execution_count": 11,
   "metadata": {},
   "outputs": [
    {
     "name": "stdout",
     "output_type": "stream",
     "text": [
      "14034\n"
     ]
    }
   ],
   "source": [
    "training_count=len(img_list)\n",
    "print(training_count)\n",
    "\n",
    "myOpt=keras.optimizers.Adam(lr=0.0001)\n",
    "model.compile(optimizer='adam', loss='sparse_categorical_crossentropy',metrics=['accuracy'])\n",
    "\n",
    "filepath='myModel2_weights1.h5'\n",
    "checkpoint=ModelCheckpoint(filepath,monitor=['acc'],verbose=0,mode='max')\n",
    "callbacks_list=[checkpoint]"
   ]
  },
  {
   "cell_type": "code",
   "execution_count": 12,
   "metadata": {},
   "outputs": [
    {
     "name": "stdout",
     "output_type": "stream",
     "text": [
      "Epoch 1/20\n",
      "47/47 [==============================] - 86s 2s/step - loss: 1.1634 - acc: 0.5090\n",
      "220/220 [==============================] - 1378s 6s/step - loss: 1.4652 - acc: 0.3577 - val_loss: 1.1634 - val_acc: 0.5090\n",
      "Epoch 2/20\n",
      "47/47 [==============================] - 86s 2s/step - loss: 1.0530 - acc: 0.5640\n",
      "220/220 [==============================] - 1369s 6s/step - loss: 1.2101 - acc: 0.5024 - val_loss: 1.0530 - val_acc: 0.5640\n",
      "Epoch 3/20\n",
      "47/47 [==============================] - 84s 2s/step - loss: 1.0326 - acc: 0.5893\n",
      "220/220 [==============================] - 1372s 6s/step - loss: 1.1270 - acc: 0.5450 - val_loss: 1.0326 - val_acc: 0.5893\n",
      "Epoch 4/20\n",
      "47/47 [==============================] - 84s 2s/step - loss: 0.9336 - acc: 0.6263\n",
      "220/220 [==============================] - 1296s 6s/step - loss: 1.0688 - acc: 0.5792 - val_loss: 0.9336 - val_acc: 0.6263\n",
      "Epoch 5/20\n",
      "47/47 [==============================] - 84s 2s/step - loss: 0.9432 - acc: 0.6233\n",
      "220/220 [==============================] - 1370s 6s/step - loss: 1.0103 - acc: 0.6083 - val_loss: 0.9432 - val_acc: 0.6233\n",
      "Epoch 6/20\n",
      "47/47 [==============================] - 84s 2s/step - loss: 0.9907 - acc: 0.6140\n",
      "220/220 [==============================] - 1367s 6s/step - loss: 0.9935 - acc: 0.6267 - val_loss: 0.9907 - val_acc: 0.6140\n",
      "Epoch 7/20\n",
      "47/47 [==============================] - 70s 1s/step - loss: 0.9343 - acc: 0.6427\n",
      "220/220 [==============================] - 1299s 6s/step - loss: 0.9448 - acc: 0.6482 - val_loss: 0.9343 - val_acc: 0.6427\n",
      "Epoch 8/20\n",
      "47/47 [==============================] - 84s 2s/step - loss: 0.7671 - acc: 0.7220\n",
      "220/220 [==============================] - 1368s 6s/step - loss: 0.9020 - acc: 0.6709 - val_loss: 0.7671 - val_acc: 0.7220\n",
      "Epoch 9/20\n",
      "47/47 [==============================] - 83s 2s/step - loss: 0.9348 - acc: 0.6777\n",
      "220/220 [==============================] - 1365s 6s/step - loss: 0.8740 - acc: 0.6848 - val_loss: 0.9348 - val_acc: 0.6777\n",
      "Epoch 10/20\n",
      "47/47 [==============================] - 84s 2s/step - loss: 0.6740 - acc: 0.7500\n",
      "220/220 [==============================] - 1365s 6s/step - loss: 0.8223 - acc: 0.7096 - val_loss: 0.6740 - val_acc: 0.7500\n",
      "Epoch 11/20\n",
      "47/47 [==============================] - 84s 2s/step - loss: 0.7611 - acc: 0.7213\n",
      "220/220 [==============================] - 1294s 6s/step - loss: 0.8073 - acc: 0.7172 - val_loss: 0.7611 - val_acc: 0.7213\n",
      "Epoch 12/20\n",
      "47/47 [==============================] - 84s 2s/step - loss: 0.7303 - acc: 0.7440\n",
      "220/220 [==============================] - 1362s 6s/step - loss: 0.7667 - acc: 0.7289 - val_loss: 0.7303 - val_acc: 0.7440\n",
      "Epoch 13/20\n",
      "47/47 [==============================] - 84s 2s/step - loss: 0.6815 - acc: 0.7567\n",
      "220/220 [==============================] - 1363s 6s/step - loss: 0.7458 - acc: 0.7409 - val_loss: 0.6815 - val_acc: 0.7567\n",
      "Epoch 14/20\n",
      "47/47 [==============================] - 73s 2s/step - loss: 0.8492 - acc: 0.6737\n",
      "220/220 [==============================] - 1299s 6s/step - loss: 0.7328 - acc: 0.7473 - val_loss: 0.8492 - val_acc: 0.6737\n",
      "Epoch 15/20\n",
      "47/47 [==============================] - 83s 2s/step - loss: 0.6491 - acc: 0.7740\n",
      "220/220 [==============================] - 1359s 6s/step - loss: 0.6942 - acc: 0.7632 - val_loss: 0.6491 - val_acc: 0.7740\n",
      "Epoch 16/20\n",
      "47/47 [==============================] - 83s 2s/step - loss: 0.6856 - acc: 0.7683\n",
      "220/220 [==============================] - 1363s 6s/step - loss: 0.6847 - acc: 0.7688 - val_loss: 0.6856 - val_acc: 0.7683\n",
      "Epoch 17/20\n",
      "47/47 [==============================] - 84s 2s/step - loss: 0.6121 - acc: 0.7923\n",
      "220/220 [==============================] - 1361s 6s/step - loss: 0.6840 - acc: 0.7701 - val_loss: 0.6121 - val_acc: 0.7923\n",
      "Epoch 18/20\n",
      "47/47 [==============================] - 85s 2s/step - loss: 0.6118 - acc: 0.7870\n",
      "220/220 [==============================] - 1292s 6s/step - loss: 0.6615 - acc: 0.7760 - val_loss: 0.6118 - val_acc: 0.7870\n",
      "Epoch 19/20\n",
      "47/47 [==============================] - 82s 2s/step - loss: 0.6539 - acc: 0.7707\n",
      "220/220 [==============================] - 1353s 6s/step - loss: 0.6522 - acc: 0.7777 - val_loss: 0.6539 - val_acc: 0.7707\n",
      "Epoch 20/20\n",
      "47/47 [==============================] - 84s 2s/step - loss: 0.7973 - acc: 0.7253\n",
      "220/220 [==============================] - 1349s 6s/step - loss: 0.6158 - acc: 0.7880 - val_loss: 0.7973 - val_acc: 0.7253\n"
     ]
    }
   ],
   "source": [
    "history=model.fit_generator(train_generator,epochs=20,steps_per_epoch=training_count//batch_size,\n",
    "                            shuffle=True,verbose=1,validation_data=test_generator)"
   ]
  },
  {
   "cell_type": "code",
   "execution_count": 13,
   "metadata": {},
   "outputs": [
    {
     "data": {
      "text/plain": [
       "[<matplotlib.text.Text at 0x7ff70c5eb350>,\n",
       " <matplotlib.text.Text at 0x7ff6f6ade910>]"
      ]
     },
     "execution_count": 13,
     "metadata": {},
     "output_type": "execute_result"
    },
    {
     "data": {
      "image/png": "[encoded data removed]",
      "text/plain": [
       "<matplotlib.figure.Figure at 0x7ff744353750>"
      ]
     },
     "metadata": {
      "needs_background": "light"
     },
     "output_type": "display_data"
    }
   ],
   "source": [
    "# Loss Curves\n",
    "f,(ax1,ax2)=plt.subplots(1,2,figsize=(10,5))\n",
    "ax1.plot(history.history['acc'],'r',label='Training Accuracy')\n",
    "ax1.plot(history.history['val_acc'],'b',label='Validation Accuracy')\n",
    "ax1.legend()\n",
    "ax1.set(xlabel='Epochs',ylabel='Accuracy')\n",
    "\n",
    "ax2.plot(history.history['loss'],'r',label='Training Loss')\n",
    "ax2.plot(history.history['val_loss'],'b',label='Validation Loss')\n",
    "ax2.legend()\n",
    "ax2.set(xlabel='Epochs',ylabel='Loss')"
   ]
  },
  {
   "cell_type": "code",
   "execution_count": null,
   "metadata": {},
   "outputs": [],
   "source": []
  }
 ],
 "metadata": {
  "kernelspec": {
   "display_name": "Python 2",
   "language": "python",
   "name": "python2"
  },
  "language_info": {
   "codemirror_mode": {
    "name": "ipython",
    "version": 2
   },
   "file_extension": ".py",
   "mimetype": "text/x-python",
   "name": "python",
   "nbconvert_exporter": "python",
   "pygments_lexer": "ipython2",
   "version": "2.7.15"
  }
 },
 "nbformat": 4,
 "nbformat_minor": 2
}

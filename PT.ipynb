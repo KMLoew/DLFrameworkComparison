{
 "cells": [
  {
   "cell_type": "markdown",
   "metadata": {},
   "source": [
    "Last Modifed:July 23, 2019\n",
    "\n",
    "Description: This notebook builds a simple neural network and trains it. The data used is from a Kaggle dataset (Intel Image Classification).\n",
    "\n",
    "This one uses pytorch."
   ]
  },
  {
   "cell_type": "code",
   "execution_count": 1,
   "metadata": {},
   "outputs": [
    {
     "name": "stdout",
     "output_type": "stream",
     "text": [
      "pytorch version:  1.1.0\n"
     ]
    }
   ],
   "source": [
    "%matplotlib inline\n",
    "import numpy as np\n",
    "import matplotlib.pyplot as plt\n",
    "from sklearn.metrics import confusion_matrix, classification_report, accuracy_score\n",
    "import cv2\n",
    "import torch\n",
    "import torch.nn as nn\n",
    "import torchvision\n",
    "from torchvision import transforms\n",
    "import torchvision.datasets as datasets\n",
    "from torch.autograd import Variable\n",
    "import time\n",
    "import os\n",
    "\n",
    "print('pytorch version: ',torch.__version__)"
   ]
  },
  {
   "cell_type": "markdown",
   "metadata": {},
   "source": [
    "Declare path to the data."
   ]
  },
  {
   "cell_type": "code",
   "execution_count": 2,
   "metadata": {},
   "outputs": [],
   "source": [
    "training_path='seg_train'\n",
    "test_path='seg_test'"
   ]
  },
  {
   "cell_type": "code",
   "execution_count": 3,
   "metadata": {},
   "outputs": [],
   "source": [
    "class_dict={}\n",
    "for i in os.listdir(training_path):\n",
    "    class_dict[i]=os.listdir(training_path+'/'+i)"
   ]
  },
  {
   "cell_type": "code",
   "execution_count": 4,
   "metadata": {},
   "outputs": [],
   "source": [
    "img_list=[]\n",
    "class_list=[]\n",
    "classes=[]\n",
    "dr=[]"
   ]
  },
  {
   "cell_type": "code",
   "execution_count": 5,
   "metadata": {},
   "outputs": [],
   "source": [
    "for ii in class_dict:\n",
    "    classes.append(ii)"
   ]
  },
  {
   "cell_type": "code",
   "execution_count": 6,
   "metadata": {},
   "outputs": [],
   "source": [
    "for ii,val in enumerate(class_dict.values()):\n",
    "    for img in val :\n",
    "        img_list.append(img)\n",
    "        class_list.append(classes[ii])"
   ]
  },
  {
   "cell_type": "code",
   "execution_count": 7,
   "metadata": {},
   "outputs": [],
   "source": [
    "for ii in range(len(class_list)):\n",
    "    dr.append(training_path+'/'+class_list[ii]+'/'+img_list[ii])"
   ]
  },
  {
   "cell_type": "markdown",
   "metadata": {},
   "source": [
    "Check number of training images."
   ]
  },
  {
   "cell_type": "code",
   "execution_count": 8,
   "metadata": {},
   "outputs": [
    {
     "data": {
      "text/plain": [
       "14034"
      ]
     },
     "execution_count": 8,
     "metadata": {},
     "output_type": "execute_result"
    }
   ],
   "source": [
    "len(class_list)"
   ]
  },
  {
   "cell_type": "markdown",
   "metadata": {},
   "source": [
    "Next I wanted to set a number of transforms to apply to the images. Namely, resize all images to 150x150, randomly flip them vertically and horizonatally, and random rotations up to 25 degrees. These transformations were applied to the training set, but the test set was only resized."
   ]
  },
  {
   "cell_type": "code",
   "execution_count": 9,
   "metadata": {},
   "outputs": [],
   "source": [
    "train_tf=transforms.Compose([transforms.Resize((150,150)),\n",
    "                             transforms.RandomHorizontalFlip(),\n",
    "                             transforms.RandomVerticalFlip(),\n",
    "                             transforms.RandomAffine(25),\n",
    "                             transforms.ToTensor()])\n",
    "\n",
    "test_tf=transforms.Compose([transforms.Resize((150,150)),\n",
    "                            transforms.ToTensor()])"
   ]
  },
  {
   "cell_type": "markdown",
   "metadata": {},
   "source": [
    "The data is packaged into a dataset then loaded as batches."
   ]
  },
  {
   "cell_type": "code",
   "execution_count": 10,
   "metadata": {},
   "outputs": [],
   "source": [
    "train_dataset=datasets.ImageFolder(root=training_path, transform=train_tf)\n",
    "\n",
    "test_dataset=datasets.ImageFolder(root=test_path, transform=test_tf)"
   ]
  },
  {
   "cell_type": "code",
   "execution_count": 11,
   "metadata": {},
   "outputs": [],
   "source": [
    "train_load=torch.utils.data.DataLoader(dataset=train_dataset, batch_size=64, drop_last=True, shuffle=True)      \n",
    "\n",
    "test_load=torch.utils.data.DataLoader(dataset=test_dataset, batch_size=64, drop_last=True, shuffle=False)"
   ]
  },
  {
   "cell_type": "markdown",
   "metadata": {},
   "source": [
    "The neural network is then constructed as a class. The layers are made with torch.nn layers."
   ]
  },
  {
   "cell_type": "code",
   "execution_count": 12,
   "metadata": {},
   "outputs": [],
   "source": [
    "class myModel(nn.Module):\n",
    "    def __init__(self):\n",
    "        super(myModel,self).__init__()\n",
    "        \n",
    "        self.cnn1=nn.Conv2d(in_channels=3, out_channels=32, kernel_size=3,stride=2)\n",
    "        self.relu=nn.ReLU()\n",
    "        self.maxpool1=nn.MaxPool2d(kernel_size=2)\n",
    "        \n",
    "        self.cnn2=nn.Conv2d(in_channels=32, out_channels=64, kernel_size=3, stride=2)\n",
    "        self.maxpool2=nn.MaxPool2d(kernel_size=2)\n",
    "        \n",
    "        self.fc1=nn.Linear(in_features=64*9*9, out_features=128)\n",
    "        self.fc2=nn.Linear(in_features=128, out_features=64)\n",
    "        self.droput=nn.Dropout(p=0.5)\n",
    "        self.fc3=nn.Linear(in_features=64, out_features=len(classes)) \n",
    "        \n",
    "    def forward(self,x):\n",
    "        out=self.cnn1(x)\n",
    "        out=self.relu(out)\n",
    "        out=self.maxpool1(out)\n",
    "        out=self.cnn2(out)\n",
    "        out=self.relu(out)\n",
    "        out=self.maxpool2(out)\n",
    "        out=out.view(64,64*9*9)\n",
    "        out=self.fc1(out)\n",
    "        out=self.relu(out)\n",
    "        out=self.fc2(out)\n",
    "        out=self.relu(out)\n",
    "        out=self.droput(out)\n",
    "        out=self.fc3(out)\n",
    "        return out"
   ]
  },
  {
   "cell_type": "markdown",
   "metadata": {},
   "source": [
    "The model is then declared and the optimizer and loss are created."
   ]
  },
  {
   "cell_type": "code",
   "execution_count": 13,
   "metadata": {},
   "outputs": [],
   "source": [
    "model=myModel()"
   ]
  },
  {
   "cell_type": "code",
   "execution_count": 14,
   "metadata": {},
   "outputs": [],
   "source": [
    "myOpt=torch.optim.Adam(model.parameters(), lr=0.001)\n",
    "loss_fn=nn.CrossEntropyLoss()"
   ]
  },
  {
   "cell_type": "markdown",
   "metadata": {},
   "source": [
    "The training is done in a loop over a number of epochs, in this case 15.\n",
    "\n"
   ]
  },
  {
   "cell_type": "code",
   "execution_count": 15,
   "metadata": {},
   "outputs": [
    {
     "name": "stdout",
     "output_type": "stream",
     "text": [
      "Epoch:  0\n",
      "Accuracy:  0.421875\n",
      "Validation Accuracy:  0.5475543478260869\n",
      "Validation Loss: 1.1310222038756246\n",
      "Epoch:  1\n",
      "Accuracy:  0.5940353881278538\n",
      "Validation Accuracy:  0.6226222826086957\n",
      "Validation Loss: 0.9894237796897474\n",
      "Epoch:  2\n",
      "Accuracy:  0.6431221461187214\n",
      "Validation Accuracy:  0.6453804347826086\n",
      "Validation Loss: 0.9463684189578762\n",
      "Epoch:  3\n",
      "Accuracy:  0.6653824200913242\n",
      "Validation Accuracy:  0.6623641304347826\n",
      "Validation Loss: 0.9396719433691191\n",
      "Epoch:  4\n",
      "Accuracy:  0.677654109589041\n",
      "Validation Accuracy:  0.6878396739130435\n",
      "Validation Loss: 0.8772443403368411\n",
      "Epoch:  5\n",
      "Accuracy:  0.6927796803652968\n",
      "Validation Accuracy:  0.7082201086956522\n",
      "Validation Loss: 0.8111163743812105\n",
      "Epoch:  6\n",
      "Accuracy:  0.7118293378995434\n",
      "Validation Accuracy:  0.7255434782608695\n",
      "Validation Loss: 0.7850933458818041\n",
      "Epoch:  7\n",
      "Accuracy:  0.7191780821917808\n",
      "Validation Accuracy:  0.7299592391304348\n",
      "Validation Loss: 0.7759577638429144\n",
      "Epoch:  8\n",
      "Accuracy:  0.7338755707762558\n",
      "Validation Accuracy:  0.7523777173913043\n",
      "Validation Loss: 0.7155435156563054\n",
      "Epoch:  9\n",
      "Accuracy:  0.7399400684931506\n",
      "Validation Accuracy:  0.7340353260869565\n",
      "Validation Loss: 0.7544579842816228\n",
      "Epoch:  10\n",
      "Accuracy:  0.7488584474885844\n",
      "Validation Accuracy:  0.7391304347826086\n",
      "Validation Loss: 0.73365593329072\n",
      "Epoch:  11\n",
      "Accuracy:  0.758204908675799\n",
      "Validation Accuracy:  0.7683423913043478\n",
      "Validation Loss: 0.6783457252642383\n",
      "Epoch:  12\n",
      "Accuracy:  0.7639840182648402\n",
      "Validation Accuracy:  0.7666440217391305\n",
      "Validation Loss: 0.6797922208257343\n",
      "Epoch:  13\n",
      "Accuracy:  0.7672659817351598\n",
      "Validation Accuracy:  0.7781929347826086\n",
      "Validation Loss: 0.6248419245947963\n",
      "Epoch:  14\n",
      "Accuracy:  0.775185502283105\n",
      "Validation Accuracy:  0.7741168478260869\n",
      "Validation Loss: 0.6447420104042344\n"
     ]
    }
   ],
   "source": [
    "t=time.time()\n",
    "\n",
    "acc_list=[]\n",
    "val_acc_list=[]\n",
    "\n",
    "#Loop for n_epochs\n",
    "for epoch in range(15):\n",
    "    print('Epoch: ',epoch)\n",
    "        \n",
    "    running_loss = 0.0  \n",
    "    total_train_loss = 0\n",
    "    \n",
    "    pred=[]\n",
    "    true=[]\n",
    "    \n",
    "    for ii, data in enumerate(train_load, 0):\n",
    "        \n",
    "        #data, labels\n",
    "        x,y=data\n",
    "            \n",
    "        #The data and labels need to be 'variables'\n",
    "        x,y=Variable(x),Variable(y)\n",
    "            \n",
    "        myOpt.zero_grad()\n",
    "            \n",
    "        # have the model output predictions, then evaluate on those\n",
    "        y_out=model(x)\n",
    "        loss_size=loss_fn(y_out, y)\n",
    "        loss_size.backward()\n",
    "        myOpt.step()\n",
    "            \n",
    "        running_loss+=loss_size.data.item()\n",
    "        total_train_loss+=loss_size.data.item()\n",
    "        \n",
    "        _,temp=torch.max(y_out, 1)\n",
    "        pred+=(list(temp.numpy()))\n",
    "        true+=(list(y.numpy()))\n",
    "           \n",
    "    print('Accuracy: ',accuracy_score(true,pred))\n",
    "    acc_list.append(accuracy_score(true,pred))\n",
    "         \n",
    "        \n",
    "    #check validation set (I named it test)\n",
    "    total_val_loss = 0\n",
    "    pred=[]\n",
    "    true=[]\n",
    "    for ii, data in enumerate(test_load, 0):\n",
    "            \n",
    "        x,y=data\n",
    "            \n",
    "        x,y=Variable(x), Variable(y)\n",
    "            \n",
    "        y_out_test=model(x)\n",
    "        val_loss_size=loss_fn(y_out_test, y)\n",
    "        total_val_loss+=val_loss_size.data.item()\n",
    "        \n",
    "        _,temp=torch.max(y_out_test, 1)\n",
    "        pred+=(list(temp.numpy()))\n",
    "        true+=(list(y.numpy()))\n",
    "        \n",
    "    print('Validation Accuracy: ',accuracy_score(true,pred))\n",
    "    val_acc_list.append(accuracy_score(true,pred))    \n",
    "        \n",
    "    print('Validation Loss:',(total_val_loss/len(test_load)))\n",
    "        \n",
    "elapsed=time.time()-t"
   ]
  },
  {
   "cell_type": "markdown",
   "metadata": {},
   "source": [
    "Plot the accuracy vs epoch."
   ]
  },
  {
   "cell_type": "code",
   "execution_count": 22,
   "metadata": {},
   "outputs": [
    {
     "data": {
      "text/plain": [
       "<matplotlib.legend.Legend at 0x7f6fda5b8cf8>"
      ]
     },
     "execution_count": 22,
     "metadata": {},
     "output_type": "execute_result"
    },
    {
     "data": {
      "image/png": "[encoded data removed]",
      "text/plain": [
       "<Figure size 360x360 with 1 Axes>"
      ]
     },
     "metadata": {
      "needs_background": "light"
     },
     "output_type": "display_data"
    }
   ],
   "source": [
    "plt.figure(figsize=(5,5))\n",
    "plt.plot(acc_list,'r',label='Training Accuracy')\n",
    "plt.plot(val_acc_list,'k',label='Test Accuracy')\n",
    "plt.xlabel('Epochs')\n",
    "plt.ylabel('Accuracy')\n",
    "plt.legend()"
   ]
  },
  {
   "cell_type": "markdown",
   "metadata": {},
   "source": [
    "Then test the trained model to evaluate performance."
   ]
  },
  {
   "cell_type": "code",
   "execution_count": 17,
   "metadata": {},
   "outputs": [],
   "source": [
    "pred=[]\n",
    "true=[]\n",
    "\n",
    "for ii, data in enumerate(test_load, 0):\n",
    "            \n",
    "        #Get inputs\n",
    "        x, y=data\n",
    "            \n",
    "        #Wrap them in a Variable object\n",
    "        x, y=Variable(x), Variable(y)\n",
    "            \n",
    "        #Forward pass\n",
    "        y_out_test=model(x)\n",
    "        \n",
    "        _,temp=torch.max(y_out_test, 1)\n",
    "        \n",
    "        pred+=(list(temp.numpy()))\n",
    "        true+=(list(y.numpy()))"
   ]
  },
  {
   "cell_type": "markdown",
   "metadata": {},
   "source": [
    "A confusion matrix is very useful to see number of correct classifications and the incorrect ones all at once."
   ]
  },
  {
   "cell_type": "code",
   "execution_count": 18,
   "metadata": {},
   "outputs": [],
   "source": [
    "conf=confusion_matrix(true,pred)"
   ]
  },
  {
   "cell_type": "code",
   "execution_count": 19,
   "metadata": {},
   "outputs": [
    {
     "data": {
      "image/png": "[encoded data removed]",
      "text/plain": [
       "<Figure size 504x504 with 1 Axes>"
      ]
     },
     "metadata": {
      "needs_background": "light"
     },
     "output_type": "display_data"
    }
   ],
   "source": [
    "fig, ax = plt.subplots(figsize=(7,7))\n",
    "ax.matshow(conf, cmap='coolwarm')\n",
    "ax.set_xticklabels(['']+classes)\n",
    "ax.set_yticklabels(['']+classes)\n",
    "plt.title('Confusion Matrix PT')\n",
    "plt.xlabel('Predicted')\n",
    "plt.ylabel('True')\n",
    "\n",
    "for (ii, jj), val in np.ndenumerate(conf):\n",
    "    ax.text(jj, ii, '{:0.1f}'.format(val), ha='center', va='center')\n",
    "\n",
    "plt.show()"
   ]
  },
  {
   "cell_type": "markdown",
   "metadata": {},
   "source": [
    "I included a classification report in case more comparisons wanted to be made."
   ]
  },
  {
   "cell_type": "code",
   "execution_count": 20,
   "metadata": {},
   "outputs": [
    {
     "name": "stdout",
     "output_type": "stream",
     "text": [
      "              precision    recall  f1-score   support\n",
      "\n",
      "           0       0.69      0.75      0.72       437\n",
      "           1       0.95      0.90      0.92       474\n",
      "           2       0.81      0.68      0.74       553\n",
      "           3       0.84      0.63      0.72       525\n",
      "           4       0.64      0.84      0.73       510\n",
      "           5       0.76      0.85      0.81       445\n",
      "\n",
      "    accuracy                           0.77      2944\n",
      "   macro avg       0.78      0.77      0.77      2944\n",
      "weighted avg       0.78      0.77      0.77      2944\n",
      "\n"
     ]
    }
   ],
   "source": [
    "CR=classification_report(true,pred)\n",
    "\n",
    "print(CR)"
   ]
  },
  {
   "cell_type": "markdown",
   "metadata": {},
   "source": [
    "Lastly, the accuracy is reported and the training time. These values are saved for comparison."
   ]
  },
  {
   "cell_type": "code",
   "execution_count": 21,
   "metadata": {},
   "outputs": [
    {
     "name": "stdout",
     "output_type": "stream",
     "text": [
      "Training Time:  813.0522592067719\n",
      "Final Accuracy:  0.7693614130434783\n"
     ]
    }
   ],
   "source": [
    "acc=accuracy_score(true,pred)\n",
    "\n",
    "print('Training Time: ', elapsed)\n",
    "print('Final Accuracy: ', acc)\n",
    "\n",
    "np.save('PT',(elapsed,acc))"
   ]
  }
 ],
 "metadata": {
  "kernelspec": {
   "display_name": "Python 3",
   "language": "python",
   "name": "python3"
  },
  "language_info": {
   "codemirror_mode": {
    "name": "ipython",
    "version": 3
   },
   "file_extension": ".py",
   "mimetype": "text/x-python",
   "name": "python",
   "nbconvert_exporter": "python",
   "pygments_lexer": "ipython3",
   "version": "3.6.8"
  }
 },
 "nbformat": 4,
 "nbformat_minor": 2
}

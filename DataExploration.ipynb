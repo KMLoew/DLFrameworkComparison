{
 "cells": [
  {
   "cell_type": "markdown",
   "metadata": {},
   "source": [
    "Last Modifed:July 23, 2019\n",
    "\n",
    "Description: This notebook looks at the data and makes plots of the class distribution."
   ]
  },
  {
   "cell_type": "code",
   "execution_count": 1,
   "metadata": {},
   "outputs": [],
   "source": [
    "%matplotlib inline\n",
    "import numpy as np\n",
    "import matplotlib.pyplot as plt\n",
    "import platform\n",
    "import os\n",
    "import time\n",
    "import collections"
   ]
  },
  {
   "cell_type": "code",
   "execution_count": 2,
   "metadata": {},
   "outputs": [],
   "source": [
    "training_path='seg_train'\n",
    "test_path='seg_test'"
   ]
  },
  {
   "cell_type": "code",
   "execution_count": 3,
   "metadata": {},
   "outputs": [],
   "source": [
    "class_dict={}\n",
    "test_dict={}\n",
    "for ii in os.listdir(training_path):\n",
    "    class_dict[ii]=os.listdir(training_path+'/'+ii)\n",
    "    \n",
    "for ii in os.listdir(training_path):\n",
    "    test_dict[ii]=os.listdir(test_path+'/'+ii)"
   ]
  },
  {
   "cell_type": "code",
   "execution_count": 4,
   "metadata": {},
   "outputs": [],
   "source": [
    "img_list=[]\n",
    "class_list=[]\n",
    "test_list=[]\n",
    "classes=[]\n",
    "test_classes=[]\n",
    "dr=[]"
   ]
  },
  {
   "cell_type": "code",
   "execution_count": 5,
   "metadata": {},
   "outputs": [],
   "source": [
    "for ii in class_dict:\n",
    "    classes.append(ii)\n",
    "    \n",
    "for ii in test_dict:\n",
    "    test_classes.append(ii)"
   ]
  },
  {
   "cell_type": "code",
   "execution_count": 6,
   "metadata": {},
   "outputs": [],
   "source": [
    "for ii,val in enumerate(class_dict.values()):\n",
    "    for img in val :\n",
    "        img_list.append(img)\n",
    "        class_list.append(classes[ii])\n",
    "        \n",
    "for ii,val in enumerate(test_dict.values()):\n",
    "    for img in val :\n",
    "        test_list.append(test_classes[ii])"
   ]
  },
  {
   "cell_type": "code",
   "execution_count": 7,
   "metadata": {},
   "outputs": [
    {
     "data": {
      "text/plain": [
       "Text(0.5, 1.0, 'Dataset Size')"
      ]
     },
     "execution_count": 7,
     "metadata": {},
     "output_type": "execute_result"
    },
    {
     "data": {
      "image/png": "[encoded data removed]",
      "text/plain": [
       "<Figure size 360x360 with 1 Axes>"
      ]
     },
     "metadata": {
      "needs_background": "light"
     },
     "output_type": "display_data"
    }
   ],
   "source": [
    "plt.figure(figsize=(5,5))\n",
    "plt.bar([0,1], [len(class_list),len(test_list)], align='center')\n",
    "plt.xticks([0,1],['Train','Test'])\n",
    "plt.ylabel('Number of Images')\n",
    "plt.title('Dataset Size')"
   ]
  },
  {
   "cell_type": "code",
   "execution_count": 10,
   "metadata": {},
   "outputs": [
    {
     "data": {
      "text/plain": [
       "Counter({'buildings': 2191,\n",
       "         'glacier': 2404,\n",
       "         'sea': 2274,\n",
       "         'forest': 2271,\n",
       "         'street': 2382,\n",
       "         'mountain': 2512})"
      ]
     },
     "execution_count": 10,
     "metadata": {},
     "output_type": "execute_result"
    }
   ],
   "source": [
    "counter=collections.Counter(class_list)\n",
    "test_counter=collections.Counter(test_list)\n",
    "counter"
   ]
  },
  {
   "cell_type": "code",
   "execution_count": 30,
   "metadata": {},
   "outputs": [
    {
     "data": {
      "text/plain": [
       "Text(0.5, 1.0, 'Class Distribution')"
      ]
     },
     "execution_count": 30,
     "metadata": {},
     "output_type": "execute_result"
    },
    {
     "data": {
      "image/png": "[encoded data removed]",
      "text/plain": [
       "<Figure size 360x360 with 1 Axes>"
      ]
     },
     "metadata": {
      "needs_background": "light"
     },
     "output_type": "display_data"
    }
   ],
   "source": [
    "plt.figure(figsize=(5,5))\n",
    "plt.bar(np.arange(len(counter.values()))-(0.4/2), counter.values(),0.4,align='center',label='Train')\n",
    "plt.bar(np.arange(len(test_counter.values()))+(0.4/2), test_counter.values(), 0.4,align='center',label='Test')\n",
    "plt.xticks(np.arange(len(counter.values())),counter.keys())\n",
    "plt.ylabel('Number of Images')\n",
    "plt.legend()\n",
    "plt.title('Class Distribution')"
   ]
  }
 ],
 "metadata": {
  "kernelspec": {
   "display_name": "Python 3",
   "language": "python",
   "name": "python3"
  },
  "language_info": {
   "codemirror_mode": {
    "name": "ipython",
    "version": 3
   },
   "file_extension": ".py",
   "mimetype": "text/x-python",
   "name": "python",
   "nbconvert_exporter": "python",
   "pygments_lexer": "ipython3",
   "version": "3.6.8"
  }
 },
 "nbformat": 4,
 "nbformat_minor": 2
}
